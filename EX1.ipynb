{
 "cells": [
  {
   "cell_type": "code",
   "execution_count": 7,
   "metadata": {
    "collapsed": false
   },
   "outputs": [],
   "source": [
    "import os,sys"
   ]
  },
  {
   "cell_type": "code",
   "execution_count": 8,
   "metadata": {
    "collapsed": false
   },
   "outputs": [
    {
     "data": {
      "text/plain": [
       "'/home/jovyan/work'"
      ]
     },
     "execution_count": 8,
     "metadata": {},
     "output_type": "execute_result"
    }
   ],
   "source": [
    "os.getcwd()"
   ]
  },
  {
   "cell_type": "code",
   "execution_count": 11,
   "metadata": {
    "collapsed": true
   },
   "outputs": [],
   "source": [
    "#sys.path.append('/usr/lib/python2.7')\n",
    "#sys.path.append('/usr/lib/python2.7/plat-x86_64-linux-gnu')\n",
    "#sys.path.append('/usr/local/lib/python2.7/dist-packages')\n",
    "#sys.path.append('/usr/lib/python2.7/dist-packages')\n",
    "#sys.path.append('/usr/lib/pymodules/python2.7')"
   ]
  },
  {
   "cell_type": "code",
   "execution_count": 12,
   "metadata": {
    "collapsed": false
   },
   "outputs": [
    {
     "data": {
      "text/plain": [
       "['',\n",
       " '/opt/conda/envs/python2/lib/python27.zip',\n",
       " '/opt/conda/envs/python2/lib/python2.7',\n",
       " '/opt/conda/envs/python2/lib/python2.7/plat-linux2',\n",
       " '/opt/conda/envs/python2/lib/python2.7/lib-tk',\n",
       " '/opt/conda/envs/python2/lib/python2.7/lib-old',\n",
       " '/opt/conda/envs/python2/lib/python2.7/lib-dynload',\n",
       " '/opt/conda/envs/python2/lib/python2.7/site-packages',\n",
       " '/opt/conda/envs/python2/lib/python2.7/site-packages/cycler-0.10.0-py2.7.egg',\n",
       " '/opt/conda/envs/python2/lib/python2.7/site-packages/setuptools-21.2.1-py2.7.egg',\n",
       " '/opt/conda/envs/python2/lib/python2.7/site-packages/IPython/extensions',\n",
       " '/home/jovyan/.ipython',\n",
       " '/usr/lib/python2.7',\n",
       " '/usr/lib/python2.7/plat-x86_64-linux-gnu',\n",
       " '/usr/local/lib/python2.7/dist-packages',\n",
       " '/usr/lib/python2.7/dist-packages',\n",
       " '/usr/lib/pymodules/python2.7']"
      ]
     },
     "execution_count": 12,
     "metadata": {},
     "output_type": "execute_result"
    }
   ],
   "source": [
    "sys.path"
   ]
  },
  {
   "cell_type": "code",
   "execution_count": 13,
   "metadata": {
    "collapsed": false
   },
   "outputs": [],
   "source": [
    "import MeCab"
   ]
  },
  {
   "cell_type": "code",
   "execution_count": 14,
   "metadata": {
    "collapsed": true
   },
   "outputs": [],
   "source": [
    "mecab = MeCab.Tagger('-d /usr/local/lib/mecab/dic/mecab-ko-dic')"
   ]
  },
  {
   "cell_type": "code",
   "execution_count": 15,
   "metadata": {
    "collapsed": false
   },
   "outputs": [
    {
     "name": "stdout",
     "output_type": "stream",
     "text": [
      "난\tNP+JX,*,T,난,Inflect,NP,JX,나/NP+ᆫ/JX,*\n",
      "현우\tNNG,*,F,현우,*,*,*,*,*\n",
      "야\tVCP+EF,*,F,야,Inflect,VCP,EF,이/VCP+야/EF,*\n",
      "만나\tVV,*,F,만나,*,*,*,*,*\n",
      "서\tEC,*,F,서,*,*,*,*,*\n",
      "반가워\tVA+EC,*,F,반가워,Inflect,VA,EC,반갑/VA+어/EC,*\n",
      "EOS\n",
      "\n"
     ]
    }
   ],
   "source": [
    "print mecab.parse(u'난현우야만나서반가워'.encode('utf-8'))"
   ]
  },
  {
   "cell_type": "code",
   "execution_count": null,
   "metadata": {
    "collapsed": true
   },
   "outputs": [],
   "source": []
  },
  {
   "cell_type": "markdown",
   "metadata": {},
   "source": []
  }
 ],
 "metadata": {
  "kernelspec": {
   "display_name": "Python 2",
   "language": "python",
   "name": "python2"
  },
  "language_info": {
   "codemirror_mode": {
    "name": "ipython",
    "version": 2
   },
   "file_extension": ".py",
   "mimetype": "text/x-python",
   "name": "python",
   "nbconvert_exporter": "python",
   "pygments_lexer": "ipython2",
   "version": "2.7.11"
  },
  "widgets": {
   "state": {},
   "version": "1.1.2"
  }
 },
 "nbformat": 4,
 "nbformat_minor": 0
}
