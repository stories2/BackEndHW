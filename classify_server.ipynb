{
 "cells": [
  {
   "cell_type": "markdown",
   "metadata": {},
   "source": []
  },
  {
   "cell_type": "code",
   "execution_count": 1,
   "metadata": {
    "collapsed": true
   },
   "outputs": [],
   "source": [
    "from sklearn.externals import joblib\n",
    "import os,sys"
   ]
  },
  {
   "cell_type": "code",
   "execution_count": 2,
   "metadata": {
    "collapsed": true
   },
   "outputs": [],
   "source": [
    "def CheckMeCabisImported():\n",
    "    importDetected = 0\n",
    "    for index in sys.path:\n",
    "        if index == '/usr/lib/python2.7':\n",
    "            print 'Imported'\n",
    "            importDetected = 1\n",
    "            break\n",
    "    if importDetected == 0:\n",
    "        print 'Not Imported'\n",
    "        ImportMeCab()\n",
    "def ImportMeCab():\n",
    "    sys.path.append('/usr/lib/python2.7')\n",
    "    sys.path.append('/usr/lib/python2.7/plat-x86_64-linux-gnu')\n",
    "    sys.path.append('/usr/local/lib/python2.7/dist-packages')\n",
    "    sys.path.append('/usr/lib/python2.7/dist-packages')\n",
    "    sys.path.append('/usr/lib/pymodules/python2.7')\n",
    "    print 'Now Imported'"
   ]
  },
  {
   "cell_type": "code",
   "execution_count": 3,
   "metadata": {
    "collapsed": true
   },
   "outputs": [],
   "source": [
    "def DeleteSpecialCharacter(target):\n",
    "    specialCharacter = \".#/?:${}}[]()*&^%@~_-+=!,><;\"\n",
    "    for character in specialCharacter:\n",
    "        target = target.replace(character, ' ')\n",
    "    return target"
   ]
  },
  {
   "cell_type": "code",
   "execution_count": 4,
   "metadata": {
    "collapsed": true
   },
   "outputs": [],
   "source": [
    "def AnyGramForAscii(target, characterGap):\n",
    "    strLength = len(target)\n",
    "    if characterGap >= int(strLength):\n",
    "        return target.replace(' ', '')\n",
    "    elif characterGap == 0:\n",
    "        return target\n",
    "    else:\n",
    "        resultStr = \"\"\n",
    "        #target = list(target)\n",
    "        for eachCharacterStartPoint in range(len(target) - characterGap + 1):\n",
    "            for eachCharacterSavePoint in range(characterGap):\n",
    "                #print eachCharacterSavePoint\n",
    "                resultStr = resultStr + target[eachCharacterStartPoint +\n",
    "                                              eachCharacterSavePoint]\n",
    "            resultStr = resultStr + ' '\n",
    "        return resultStr"
   ]
  },
  {
   "cell_type": "code",
   "execution_count": 5,
   "metadata": {
    "collapsed": true
   },
   "outputs": [],
   "source": [
    "def AnyGram(target, characterGap):\n",
    "    strLength = len(target)\n",
    "    if characterGap >= int(strLength/3):\n",
    "        return target.replace(' ', '')\n",
    "    elif characterGap == 0:\n",
    "        return target\n",
    "    else:\n",
    "        resultStr = \"\"\n",
    "        target = list(target)\n",
    "        for eachCharacterStartMemoryPoint in range(int(len(target)/3) - characterGap + 1):\n",
    "            strTemp = \"\"\n",
    "            for saveCharacterPoint in range(characterGap * 3):\n",
    "                strTemp = strTemp + target[\n",
    "                    eachCharacterStartMemoryPoint * 3 + saveCharacterPoint]\n",
    "            resultStr = resultStr + strTemp + ' '\n",
    "        return resultStr"
   ]
  },
  {
   "cell_type": "code",
   "execution_count": 6,
   "metadata": {
    "collapsed": true
   },
   "outputs": [],
   "source": [
    "def ParseKoreanWithMeCab(target):\n",
    "    mecab = MeCab.Tagger('-d /usr/local/lib/mecab/dic/mecab-ko-dic')\n",
    "    return mecab.parse(target)\n",
    "def ParseMeCabResult(target):\n",
    "    writeAvailable = 1\n",
    "    resultStr = \"\"\n",
    "    for character in target:\n",
    "        if writeAvailable == 1 and character != '\\t':\n",
    "            resultStr = resultStr + character\n",
    "        if character == '\\t':\n",
    "            writeAvailable = 0\n",
    "            resultStr = resultStr + ' '\n",
    "        elif character == '\\n':\n",
    "            writeAvailable = 1\n",
    "    \n",
    "    resultStr.replace('EOS','')\n",
    "    resultStr = resultStr[:-5]\n",
    "    return resultStr"
   ]
  },
  {
   "cell_type": "code",
   "execution_count": 7,
   "metadata": {
    "collapsed": false
   },
   "outputs": [
    {
     "name": "stdout",
     "output_type": "stream",
     "text": [
      "Not Imported\n",
      "Now Imported\n"
     ]
    }
   ],
   "source": [
    "CheckMeCabisImported()\n",
    "import MeCab"
   ]
  },
  {
   "cell_type": "code",
   "execution_count": 8,
   "metadata": {
    "collapsed": false
   },
   "outputs": [],
   "source": [
    "\n",
    "clf = joblib.load('classify.model')\n",
    "cate_dict = joblib.load('cate_dict.dat')\n",
    "vectorizer = joblib.load('vectorizer.dat')\n"
   ]
  },
  {
   "cell_type": "code",
   "execution_count": 9,
   "metadata": {
    "collapsed": false
   },
   "outputs": [
    {
     "data": {
      "text/plain": [
       "['n_classify.model',\n",
       " 'n_classify.model_01.npy',\n",
       " 'n_classify.model_02.npy',\n",
       " 'n_classify.model_03.npy']"
      ]
     },
     "execution_count": 9,
     "metadata": {},
     "output_type": "execute_result"
    }
   ],
   "source": [
    "joblib.dump(clf,'n_classify.model')"
   ]
  },
  {
   "cell_type": "code",
   "execution_count": 10,
   "metadata": {
    "collapsed": false
   },
   "outputs": [
    {
     "data": {
      "text/plain": [
       "['n_vectorizer.dat']"
      ]
     },
     "execution_count": 10,
     "metadata": {},
     "output_type": "execute_result"
    }
   ],
   "source": [
    "joblib.dump(cate_dict,'n_cate_dict.dat')\n",
    "joblib.dump(vectorizer,'n_vectorizer.dat')"
   ]
  },
  {
   "cell_type": "code",
   "execution_count": 11,
   "metadata": {
    "collapsed": false
   },
   "outputs": [],
   "source": [
    "cate_id_name_dict = dict(map(lambda (k,v):(v,k),cate_dict.items()))"
   ]
  },
  {
   "cell_type": "code",
   "execution_count": null,
   "metadata": {
    "collapsed": false
   },
   "outputs": [
    {
     "name": "stdout",
     "output_type": "stream",
     "text": [
      "신한 카드 5 할인 서우 한복 아동 한복 여자 아동 금 나래 분홍\n"
     ]
    }
   ],
   "source": [
    "testCase = u'[신한카드5%할인][서우한복] 아동한복 여자아동 금나래 (분홍)'\n",
    "testCase = DeleteSpecialCharacter(testCase)\n",
    "parseCase = testCase.encode('utf-8')\n",
    "parseCase = ParseKoreanWithMeCab(parseCase)\n",
    "parseCase = ParseMeCabResult(parseCase)\n",
    "print parseCase\n",
    "#testTempCase = testCase\n",
    "#testTempCase = AnyGram(testCase, len(testCase))\n",
    "#print testTempCase\n",
    "#for index in range(1, 3):\n",
    "#    testCase = testCase + ' ' + AnyGram(testTempCase, index)\n",
    "#print testCase\n",
    "#pred = clf.predict(vectorizer.transform([testCase]))[0]\n",
    "#print cate_id_name_dict[pred]"
   ]
  },
  {
   "cell_type": "code",
   "execution_count": null,
   "metadata": {
    "collapsed": false
   },
   "outputs": [
    {
     "name": "stderr",
     "output_type": "stream",
     "text": [
      "Bottle v0.12.9 server starting up (using WSGIRefServer())...\n",
      "Listening on http://0.0.0.0:8887/\n",
      "Hit Ctrl-C to quit.\n",
      "\n"
     ]
    },
    {
     "name": "stdout",
     "output_type": "stream",
     "text": [
      " 신한카드5 할인  예화 좋은아이들  아동한복 여아 1076 빛이나노랑 신한 카드 5 할인 예 화 좋 은 아이 들 아동 한복 여아 1076 빛 이나 노랑\n"
     ]
    },
    {
     "name": "stderr",
     "output_type": "stream",
     "text": [
      "127.0.0.1 - - [23/Aug/2016 07:56:59] \"GET /classify?name=[%EC%8B%A0%ED%95%9C%EC%B9%B4%EB%93%9C5%%ED%95%A0%EC%9D%B8][%EC%98%88%ED%99%94-%EC%A2%8B%EC%9D%80%EC%95%84%EC%9D%B4%EB%93%A4]%20%EC%95%84%EB%8F%99%ED%95%9C%EB%B3%B5%20%EC%97%AC%EC%95%84%201076%20%EB%B9%9B%EC%9D%B4%EB%82%98%EB%85%B8%EB%9E%91&img= HTTP/1.1\" 200 74\n"
     ]
    },
    {
     "name": "stdout",
     "output_type": "stream",
     "text": [
      "인텔CPU코어 i3 4세대 하스웰 리프레시 4160 3 6GHz INTEL  인텔 CPU 코어 i 3 4 세대 하스 웰 리프 레시 4160 3 6 GHz INTEL\n",
      " 4 즉시할인쿠폰 인텔 intel 코어4세대 하스웰 i3 4160 4 즉시 할인 쿠폰 인텔 intel 코어 4 세대 하스 웰 i 3 4160\n",
      " 해외  구매대행  B00MMVIFZM  Voltage References 3 3V Prec Micropwr LDO Low VRef  5 pieces  해외 구매 대행 B 00 MMVIFZM Voltage References 3 3 V Prec Micropwr LDO Low VRef 5 pieces\n",
      " 해외  구매대행  B00AZVJIEI  AD7524LNZ 해외 구매 대행 B 00 AZVJIEI AD 7524 LNZ\n",
      " 정품  니콘 DSLR D800E Body 맨프로토 MKBFRA4 BH 삼각대  인화권 웹하드 정품 니콘 DSLR D 800 E Body 맨 프로 토 MKBFRA 4 BH 삼각대 인화 권 웹 하드\n",
      " 캐논코리아정품  Canon EOS 70D 18 55 IS II STM  3355가방   SDHC 8GB UV필터 리더기 크리너SET 액정필름 융 즐기기책자 그외사은품 캐논 코리아 정품 Canon EOS 70 D 18 55 IS II STM 3355 가방 SDHC 8 GB UV 필터 리더 기 크리너 SET 액정 필름 융 즐기 기 책자 그 외 사은품\n",
      "자이로컴 자이뷰 XV120PCI BT 4채널 자이로 컴 자이 뷰 XV 120 PCI BT 4 채널\n",
      "씨앤비텍 BDS1212 씨 앤 비텍 BDS 1212\n",
      " D 외장하드 1TB  6 4CM 2 5형 자개에디션 선유도   PCD10184  D 외장 하드 1 TB 6 4 CM 2 5 형 자개 에디션 선유도 PCD 10184\n"
     ]
    },
    {
     "name": "stderr",
     "output_type": "stream",
     "text": [
      "121.140.65.88 - - [23/Aug/2016 07:57:27] \"GET /classify?name=%EC%9D%B8%ED%85%94CPU%EC%BD%94%EC%96%B4%20i3-4%EC%84%B8%EB%8C%80%20%ED%95%98%EC%8A%A4%EC%9B%B0%20%EB%A6%AC%ED%94%84%EB%A0%88%EC%8B%9C%204160(3.6GHz/INTEL)&img=http://shopping.phinf.naver.net/main_7975500/7975500771.jpg HTTP/1.1\" 200 62\n",
      "121.140.65.88 - - [23/Aug/2016 07:57:27] \"GET /classify?name=[4%%EC%A6%89%EC%8B%9C%ED%95%A0%EC%9D%B8%EC%BF%A0%ED%8F%B0]%EC%9D%B8%ED%85%94%20intel%20%EC%BD%94%EC%96%B44%EC%84%B8%EB%8C%80%20%ED%95%98%EC%8A%A4%EC%9B%B0%20i3-4160&img=http://shopping.phinf.naver.net/main_8350292/8350292853.jpg HTTP/1.1\" 200 62\n",
      "121.140.65.88 - - [23/Aug/2016 07:57:27] \"GET /classify?name=[%ED%95%B4%EC%99%B8][%EA%B5%AC%EB%A7%A4%EB%8C%80%ED%96%89][B00MMVIFZM]%20Voltage%20References%203.3V%20Prec%20Micropwr%20LDO%20Low%20VRef%20(5%20pieces)&img=http://shopping.phinf.naver.net/main_8266191/8266191804.jpg HTTP/1.1\" 200 72\n",
      "121.140.65.88 - - [23/Aug/2016 07:57:27] \"GET /classify?name=[%ED%95%B4%EC%99%B8][%EA%B5%AC%EB%A7%A4%EB%8C%80%ED%96%89][B00AZVJIEI]%20AD7524LNZ&img=http://shopping.phinf.naver.net/main_8266272/8266272594.jpg HTTP/1.1\" 200 72\n",
      "121.140.65.88 - - [23/Aug/2016 07:57:27] \"GET /classify?name=[%EC%A0%95%ED%92%88]%20%EB%8B%88%EC%BD%98%20DSLR%20D800E%20Body+%EB%A7%A8%ED%94%84%EB%A1%9C%ED%86%A0%20MKBFRA4-BH%20%EC%82%BC%EA%B0%81%EB%8C%80%20+%EC%9D%B8%ED%99%94%EA%B6%8C+%EC%9B%B9%ED%95%98%EB%93%9C&img=http://shopping.phinf.naver.net/main_8303716/8303716371.jpg HTTP/1.1\" 200 116\n",
      "121.140.65.88 - - [23/Aug/2016 07:57:27] \"GET /classify?name=[%EC%BA%90%EB%85%BC%EC%BD%94%EB%A6%AC%EC%95%84%EC%A0%95%ED%92%88]%20Canon%20EOS%2070D%2018-55%20IS%20II%20STM+%203355%EA%B0%80%EB%B0%A9%20+%20SDHC%208GB+UV%ED%95%84%ED%84%B0+%EB%A6%AC%EB%8D%94%EA%B8%B0+%ED%81%AC%EB%A6%AC%EB%84%88SET+%EC%95%A1%EC%A0%95%ED%95%84%EB%A6%84+%EC%9C%B5+%EC%A6%90%EA%B8%B0%EA%B8%B0%EC%B1%85%EC%9E%90+%EA%B7%B8%EC%99%B8%EC%82%AC%EC%9D%80%ED%92%88&img=http://shopping.phinf.naver.net/main_8064286/8064286604.jpg HTTP/1.1\" 200 116\n",
      "121.140.65.88 - - [23/Aug/2016 07:57:28] \"GET /classify?name=%EC%9E%90%EC%9D%B4%EB%A1%9C%EC%BB%B4%20%EC%9E%90%EC%9D%B4%EB%B7%B0%20XV120PCI-BT%204%EC%B1%84%EB%84%90&img=http://shopping.phinf.naver.net/main_4105281/4105281894.20120211193211.jpg HTTP/1.1\" 200 90\n",
      "121.140.65.88 - - [23/Aug/2016 07:57:28] \"GET /classify?name=%EC%94%A8%EC%95%A4%EB%B9%84%ED%85%8D%20BDS1212&img=http://shopping.phinf.naver.net/main_4055288/4055288344.20120211202930.jpg HTTP/1.1\" 200 90\n",
      "121.140.65.88 - - [23/Aug/2016 07:57:28] \"GET /classify?name=(D)%EC%99%B8%EC%9E%A5%ED%95%98%EB%93%9C%201TB%20(6.4CM(2.5%ED%98%95)%EC%9E%90%EA%B0%9C%EC%97%90%EB%94%94%EC%85%98/%EC%84%A0%EC%9C%A0%EB%8F%84)%20[PCD10184]&img=http://shopping.phinf.naver.net/main_8274693/8274693624.jpg HTTP/1.1\" 200 115\n"
     ]
    },
    {
     "name": "stdout",
     "output_type": "stream",
     "text": [
      " PCD9114  하드 도킹 스테이션  3500ES eSATA USB2 0 6 4cm 8 9cm  3 5인치형 2 5인치형 S ATA 하드 USB2 0   eSATA 통알루미늄  PCD 9114 하드 도킹 스테이션 3500 ES eSATA USB 2 0 6 4 cm 8 9 cm 3 5 인치 형 2 5 인치 형 S ATA 하드 USB 2 0 eSATA 통 알루미늄\n",
      "Seagate 6TB Surveillance HDD Rescue ST6000VX0011 Seagate 6 TB Surveillance HDD Rescue ST 6000 VX 0011\n",
      "씨게이트 NAS   서버용 3 5형 HDD 컨스텔레이션 ES 3 SAS 2TB   128MB   7200RPM  ST2000NM0023  씨 게이트 NAS 서버 용 3 5 형 HDD 컨 스텔레 이 션 ES 3 SAS 2 TB 128 MB 7200 RPM ST 2000 NM 0023\n",
      " KT SM G906K 번호이동  갤럭시S5 LTE A  28요금제이상  가입비 유심 후납  할부금 요금제별 상이  24개월   기존사용폰 최고가매입   KT SM G 906 K 번호 이동 갤럭시 S 5 LTE A 28 요금제 이상 가입비 유심 후 납 할부금 요금제 별 상 이 24 개월 기존 사용 폰 최고 가 매입\n",
      " KT번호이동 삼성갤럭시노트4 S LTE SM N916K  순액77요금제  가입비분납  유심비후납  부가서비스없음  선배송후개 부가서비스없음 선배송 후개통  KT 번호 이동 삼성 갤럭시 노트 4 S LTE SM N 916 K 순액 77 요금제 가입비 분납 유심 비후 납 부가 서비스 없 음 선배 송 후 개 부가 서비스 없 음 선배 송 후 개통\n",
      " 모리케이블   M07321  넷메이트 Netmate  CAT5 KVM 스위치 USB Dongle  DGU 01  모리 케이블 M 07321 넷 메이트 Netmate CAT 5 KVM 스위치 USB Dongle DGU 01\n",
      "5만원이상 무료배송NETMATE 넷메이트  CAT5 KVM 스위치 USB Dongle DGU 01 5 만 원 이상 무료 배송 NETMATE 넷 메이트 CAT 5 KVM 스위치 USB Dongle DGU 01\n",
      " 6 즉시할인쿠폰  PCD CVP 050 PS 2 5M   15 HDB M 15 HDB M    MD6M 6 즉시 할인 쿠폰 PCD CVP 050 PS 2 5 M 15 HDB M 15 HDB M MD 6 M\n",
      " 6 즉시할인쿠폰 KSC 104UC USB 콘솔  4PCsPS2  USB  1920x1440  1 8M 6 즉시 할인 쿠폰 KSC 104 UC USB 콘솔 4 PCsPS 2 USB 1920 x 1440 1 8 M\n",
      " 신도매유통 플러스몰 HDR XR160 HDR XR260 DCR SX45 소니 핸디캠코더 신 도매 유통 플러스 몰 HDR XR 160 HDR XR 260 DCR SX 45 소니 핸디 캠코더\n"
     ]
    },
    {
     "name": "stderr",
     "output_type": "stream",
     "text": [
      "121.140.65.88 - - [23/Aug/2016 07:57:28] \"GET /classify?name=[PCD9114]%20%ED%95%98%EB%93%9C%20%EB%8F%84%ED%82%B9%20%EC%8A%A4%ED%85%8C%EC%9D%B4%EC%85%98%20(3500ES/eSATA%20USB2.0%206.4cm/8.9cm/%203.5%EC%9D%B8%EC%B9%98%ED%98%95%202.5%EC%9D%B8%EC%B9%98%ED%98%95/S-ATA%20%ED%95%98%EB%93%9C%20USB2.0%20%20%20eSATA/%ED%86%B5%EC%95%8C%EB%A3%A8%EB%AF%B8%EB%8A%84)&img=http://shopping.phinf.naver.net/main_8277891/8277891703.jpg HTTP/1.1\" 200 115\n",
      "121.140.65.88 - - [23/Aug/2016 07:57:28] \"GET /classify?name=Seagate%206TB%20Surveillance%20HDD%20Rescue%20ST6000VX0011&img=http://shopping.phinf.naver.net/main_8256190/8256190893.jpg HTTP/1.1\" 200 72\n",
      "121.140.65.88 - - [23/Aug/2016 07:57:28] \"GET /classify?name=%EC%94%A8%EA%B2%8C%EC%9D%B4%ED%8A%B8%20NAS%20%20%20%EC%84%9C%EB%B2%84%EC%9A%A9%203.5%ED%98%95%20HDD%20%EC%BB%A8%EC%8A%A4%ED%85%94%EB%A0%88%EC%9D%B4%EC%85%98%20ES.3%20SAS%202TB%20/%20128MB%20/%207200RPM%20(ST2000NM0023)&img=http://shopping.phinf.naver.net/main_7527224/7527224909.jpg HTTP/1.1\" 200 72\n",
      "121.140.65.88 - - [23/Aug/2016 07:57:28] \"GET /classify?name=[KT]SM-G906K[%EB%B2%88%ED%98%B8%EC%9D%B4%EB%8F%99][%EA%B0%A4%EB%9F%AD%EC%8B%9CS5%20LTE-A][28%EC%9A%94%EA%B8%88%EC%A0%9C%EC%9D%B4%EC%83%81][%EA%B0%80%EC%9E%85%EB%B9%84/%EC%9C%A0%EC%8B%AC%20%ED%9B%84%EB%82%A9][%ED%95%A0%EB%B6%80%EA%B8%88%20%EC%9A%94%EA%B8%88%EC%A0%9C%EB%B3%84%20%EC%83%81%EC%9D%B4][24%EA%B0%9C%EC%9B%94][[%EA%B8%B0%EC%A1%B4%EC%82%AC%EC%9A%A9%ED%8F%B0%20%EC%B5%9C%EA%B3%A0%EA%B0%80%EB%A7%A4%EC%9E%85]]&img=http://shopping.phinf.naver.net/main_8059750/8059750341.jpg HTTP/1.1\" 200 65\n",
      "121.140.65.88 - - [23/Aug/2016 07:57:28] \"GET /classify?name=[KT%EB%B2%88%ED%98%B8%EC%9D%B4%EB%8F%99]%EC%82%BC%EC%84%B1%EA%B0%A4%EB%9F%AD%EC%8B%9C%EB%85%B8%ED%8A%B84%20S-LTE[SM-N916K][%EC%88%9C%EC%95%A177%EC%9A%94%EA%B8%88%EC%A0%9C][%EA%B0%80%EC%9E%85%EB%B9%84%EB%B6%84%EB%82%A9][%EC%9C%A0%EC%8B%AC%EB%B9%84%ED%9B%84%EB%82%A9][%EB%B6%80%EA%B0%80%EC%84%9C%EB%B9%84%EC%8A%A4%EC%97%86%EC%9D%8C][%EC%84%A0%EB%B0%B0%EC%86%A1%ED%9B%84%EA%B0%9C[%EB%B6%80%EA%B0%80%EC%84%9C%EB%B9%84%EC%8A%A4%EC%97%86%EC%9D%8C/%EC%84%A0%EB%B0%B0%EC%86%A1%20%ED%9B%84%EA%B0%9C%ED%86%B5]&img=http://shopping.phinf.naver.net/main_8337492/8337492479.jpg HTTP/1.1\" 200 65\n",
      "121.140.65.88 - - [23/Aug/2016 07:57:28] \"GET /classify?name=[%EB%AA%A8%EB%A6%AC%EC%BC%80%EC%9D%B4%EB%B8%94]%20[M07321]%20%EB%84%B7%EB%A9%94%EC%9D%B4%ED%8A%B8(Netmate)%20CAT5%20KVM%20%EC%8A%A4%EC%9C%84%EC%B9%98%20USB%20Dongle%20[DGU-01]&img=http://shopping.phinf.naver.net/main_7310686/7310686046.jpg HTTP/1.1\" 200 102\n",
      "121.140.65.88 - - [23/Aug/2016 07:57:28] \"GET /classify?name=5%EB%A7%8C%EC%9B%90%EC%9D%B4%EC%83%81%20%EB%AC%B4%EB%A3%8C%EB%B0%B0%EC%86%A1NETMATE(%EB%84%B7%EB%A9%94%EC%9D%B4%ED%8A%B8)%20CAT5%20KVM%20%EC%8A%A4%EC%9C%84%EC%B9%98%20USB%20Dongle%20DGU-01&img=http://shopping.phinf.naver.net/main_6551925/6551925452.jpg HTTP/1.1\" 200 102\n",
      "121.140.65.88 - - [23/Aug/2016 07:57:28] \"GET /classify?name=[6%%EC%A6%89%EC%8B%9C%ED%95%A0%EC%9D%B8%EC%BF%A0%ED%8F%B0][PCD]CVP-050%20PS/2%205M%20(%2015%20HDB(M)15%20HDB(M)%20/%20MD6M&img=http://shopping.phinf.naver.net/main_8255216/8255216396.jpg HTTP/1.1\" 200 102\n",
      "121.140.65.88 - - [23/Aug/2016 07:57:28] \"GET /classify?name=[6%%EC%A6%89%EC%8B%9C%ED%95%A0%EC%9D%B8%EC%BF%A0%ED%8F%B0]KSC-104UC%20USB%20%EC%BD%98%EC%86%94.%204PCsPS2.%20USB.%201920x1440.%201.8M&img=http://shopping.phinf.naver.net/main_8283883/8283883590.jpg HTTP/1.1\" 200 98\n",
      "121.140.65.88 - - [23/Aug/2016 07:57:28] \"GET /classify?name=[%EC%8B%A0%EB%8F%84%EB%A7%A4%EC%9C%A0%ED%86%B5%20%ED%94%8C%EB%9F%AC%EC%8A%A4%EB%AA%B0]HDR-XR160/HDR-XR260/DCR-SX45%20%EC%86%8C%EB%8B%88%20%ED%95%B8%EB%94%94%EC%BA%A0%EC%BD%94%EB%8D%94&img=http://shopping.phinf.naver.net/main_7492922/7492922253.jpg HTTP/1.1\" 200 134\n"
     ]
    },
    {
     "name": "stdout",
     "output_type": "stream",
     "text": [
      "MATIN 액정보호커버 캐논 EOS 50D전용 3 0인치 MATIN 액정 보호 커버 캐논 EOS 50 D 전용 3 0 인치\n",
      " 5 즉시할인쿠폰  LGTVG  초고속인터넷 만족최고 5 즉시 할인 쿠폰 LGTVG 초고속 인터넷 만족 최고\n",
      "SKT 기기변경 LG G플렉스2  LG F510S SKT 기기 변경 LG G 플렉스 2 LG F 510 S\n",
      " 해외 360 Degree Rotating Mount Buckle Quick Assembling Adapter Buckle for Gopro Hero 4 3    3   2 SJ4 해외 360 Degree Rotating Mount Buckle Quick Assembling Adapter Buckle for Gopro Hero 4 3 3 2 SJ 4\n",
      " 해외 Gopro hero Elastic Adjustable Head Strap Mount with anti slide glue like original for GoPro HD H 해외 Gopro hero Elastic Adjustable Head Strap Mount with anti slide glue like original for GoPro HD H\n",
      "리모컨 파인더   스마트 폰으로 리모컨 찾기 리모컨 파인더 스마트 폰 으로 리모컨 찾 기\n",
      " 5 즉시할인쿠폰  P1j 폰줄 사각무늬곰돌이 10개1Set  5 즉시 할인 쿠폰 P 1 j 폰 줄 사각 무늬 곰돌이 10 개 1 Set\n",
      "갤럭시S4 강화유리필름 갤럭시 S 4 강화 유리 필름\n",
      "스마트폰 암밴드 반사체처리 사이즈선택  좋은제품 정성배송  스마트폰 암 밴드 반사체 처리 사이즈 선택 좋 은 제품 정성 배송\n",
      " CJ알뜰폰 초특가모음  공짜폴더폰 삼성 미니멀폴더 SHW A300K   최신LTE  갤럭시노트3네오 옵티머스G2 G3비트 옵  공식대리점 매월요금할인 단말할인   CJ 알뜰 폰 초 특가 모음 공짜 폴더 폰 삼성 미니 멀 폴더 SHW A 300 K 최신 LTE 갤럭시 노트 3 네오 옵티머스 G 2 G 3 비트 옵 공식 대리점 매월 요금 할인 단말 할인\n"
     ]
    },
    {
     "name": "stderr",
     "output_type": "stream",
     "text": [
      "121.140.65.88 - - [23/Aug/2016 07:57:28] \"GET /classify?name=MATIN%20%EC%95%A1%EC%A0%95%EB%B3%B4%ED%98%B8%EC%BB%A4%EB%B2%84%20%EC%BA%90%EB%85%BC%20EOS-50D%EC%A0%84%EC%9A%A9%203.0%EC%9D%B8%EC%B9%98&img=http://shopping.phinf.naver.net/main_5398753/5398753127.20130424121118.jpg HTTP/1.1\" 200 134\n",
      "121.140.65.88 - - [23/Aug/2016 07:57:28] \"GET /classify?name=[5%%EC%A6%89%EC%8B%9C%ED%95%A0%EC%9D%B8%EC%BF%A0%ED%8F%B0]%20LGTVG%20%20%EC%B4%88%EA%B3%A0%EC%86%8D%EC%9D%B8%ED%84%B0%EB%84%B7%20%EB%A7%8C%EC%A1%B1%EC%B5%9C%EA%B3%A0&img=http://shopping.phinf.naver.net/main_8280579/8280579747.jpg HTTP/1.1\" 200 68\n",
      "121.140.65.88 - - [23/Aug/2016 07:57:28] \"GET /classify?name=SKT%20%EA%B8%B0%EA%B8%B0%EB%B3%80%EA%B2%BD%20LG%20G%ED%94%8C%EB%A0%89%EC%8A%A42%20%20LG-F510S&img=http://shopping.phinf.naver.net/main_8277834/8277834557.jpg HTTP/1.1\" 200 66\n",
      "121.140.65.88 - - [23/Aug/2016 07:57:28] \"GET /classify?name=[%ED%95%B4%EC%99%B8]360%20Degree%20Rotating%20Mount%20Buckle%20Quick%20Assembling%20Adapter%20Buckle%20for%20Gopro%20Hero%204%203+%20/%203%20/%202%20SJ4&img=http://shopping.phinf.naver.net/main_8275517/8275517457.jpg HTTP/1.1\" 200 95\n",
      "121.140.65.88 - - [23/Aug/2016 07:57:28] \"GET /classify?name=[%ED%95%B4%EC%99%B8]Gopro%20hero%20Elastic%20Adjustable%20Head%20Strap%20Mount%20with%20anti-slide%20glue%20like%20original%20for%20GoPro%20HD%20H&img=http://shopping.phinf.naver.net/main_8275517/8275517802.jpg HTTP/1.1\" 200 95\n",
      "121.140.65.88 - - [23/Aug/2016 07:57:28] \"GET /classify?name=%EB%A6%AC%EB%AA%A8%EC%BB%A8%20%ED%8C%8C%EC%9D%B8%EB%8D%94%20-%20%EC%8A%A4%EB%A7%88%ED%8A%B8%20%ED%8F%B0%EC%9C%BC%EB%A1%9C%20%EB%A6%AC%EB%AA%A8%EC%BB%A8%20%EC%B0%BE%EA%B8%B0&img=http://shopping.phinf.naver.net/main_8283487/8283487990.jpg HTTP/1.1\" 200 101\n",
      "121.140.65.88 - - [23/Aug/2016 07:57:28] \"GET /classify?name=[5%%EC%A6%89%EC%8B%9C%ED%95%A0%EC%9D%B8%EC%BF%A0%ED%8F%B0](P1j)%ED%8F%B0%EC%A4%84/%EC%82%AC%EA%B0%81%EB%AC%B4%EB%8A%AC%EA%B3%B0%EB%8F%8C%EC%9D%B4(10%EA%B0%9C1Set)&img=http://shopping.phinf.naver.net/main_8282196/8282196438.jpg HTTP/1.1\" 200 72\n",
      "121.140.65.88 - - [23/Aug/2016 07:57:28] \"GET /classify?name=%EA%B0%A4%EB%9F%AD%EC%8B%9CS4%20%EA%B0%95%ED%99%94%EC%9C%A0%EB%A6%AC%ED%95%84%EB%A6%84&img=http://shopping.phinf.naver.net/main_8272882/8272882147.jpg HTTP/1.1\" 200 134\n",
      "121.140.65.88 - - [23/Aug/2016 07:57:28] \"GET /classify?name=%EC%8A%A4%EB%A7%88%ED%8A%B8%ED%8F%B0%20%EC%95%94%EB%B0%B4%EB%93%9C%20%EB%B0%98%EC%82%AC%EC%B2%B4%EC%B2%98%EB%A6%AC(%EC%82%AC%EC%9D%B4%EC%A6%88%EC%84%A0%ED%83%9D)[%EC%A2%8B%EC%9D%80%EC%A0%9C%ED%92%88%20%EC%A0%95%EC%84%B1%EB%B0%B0%EC%86%A1]&img=http://shopping.phinf.naver.net/main_8280159/8280159389.jpg HTTP/1.1\" 200 99\n",
      "121.140.65.88 - - [23/Aug/2016 07:57:28] \"GET /classify?name=[CJ%EC%95%8C%EB%9C%B0%ED%8F%B0/%EC%B4%88%ED%8A%B9%EA%B0%80%EB%AA%A8%EC%9D%8C][%EA%B3%B5%EC%A7%9C%ED%8F%B4%EB%8D%94%ED%8F%B0%20%EC%82%BC%EC%84%B1%20%EB%AF%B8%EB%8B%88%EB%A9%80%ED%8F%B4%EB%8D%94(SHW-A300K)][%EC%B5%9C%EC%8B%A0LTE][%EA%B0%A4%EB%9F%AD%EC%8B%9C%EB%85%B8%ED%8A%B83%EB%84%A4%EC%98%A4/%EC%98%B5%ED%8B%B0%EB%A8%B8%EC%8A%A4G2/G3%EB%B9%84%ED%8A%B8/%EC%98%B5[[%EA%B3%B5%EC%8B%9D%EB%8C%80%EB%A6%AC%EC%A0%90/%EB%A7%A4%EC%9B%94%EC%9A%94%EA%B8%88%ED%95%A0%EC%9D%B8/%EB%8B%A8%EB%A7%90%ED%95%A0%EC%9D%B8]]&img=http://shopping.phinf.naver.net/main_7880109/7880109642.jpg HTTP/1.1\" 200 67\n"
     ]
    },
    {
     "name": "stdout",
     "output_type": "stream",
     "text": [
      " CJ헬로모바일공식가입센터  갤럭시S3 E210K  HD아몰레드 쿼드코어 가입비無 유심비無 부가無 추가無 CJ 헬로모바일 공식 가입 센터 갤럭시 S 3 E 210 K HD 아몰레드 쿼드 코어 가입비 無 유심 비 無 부 가 無 추가 無\n",
      "근호  QNAP TS 851 4G  하드미포함  근호 QNAP TS 851 4 G 하드 미포 함\n",
      "QNAP  TS 851 4G  하드미포함  QNAP TS 851 4 G 하드 미포 함\n",
      " 이베이용  IC 3 5인치 1베이 하드랙 H 이베이 용 IC 3 5 인치 1 베이 하드 랙 H\n",
      "한성컴퓨터 EXN COMBO USB3 0 외장DVD레코더 외장CD롬 한성 컴퓨터 EXN COMBO USB 3 0 외장 DVD 레 코더 외장 CD 롬\n",
      "pc박스 신세계에반게리온 신지육성계획 pc 박스 신세계 에 반 게리온 신지 육성 계획\n",
      " 해외  Warner Bros Interactive Entertainment UK Middle Ea 해외 정품 직배송 해외 Warner Bros Interactive Entertainment UK Middle Ea 해외 정품 직 배송\n",
      "1300K  뉴에버  깨끗한고감도마이크칩 녹음성능스탠드마이크MIC03KK 1300 K 뉴 에버 깨끗 한 고감 도 마이크 칩 녹음 성능 스탠드 마이크 MIC 03 KK\n",
      " BC카드5 할인  바보사랑 고감도 스탠드 마이크 MICROPHONE BC 카드 5 할인 바보 사랑 고감 도 스탠드 마이크 MICROPHONE\n",
      "5만원↑구매시 최대3만원 적립응모 必 빈티지 다용도 정리함 5 만 원 ↑ 구매 시 최대 3 만 원 적립 응모 必 빈티지 다용 도 정리 함\n"
     ]
    },
    {
     "name": "stderr",
     "output_type": "stream",
     "text": [
      "121.140.65.88 - - [23/Aug/2016 07:57:28] \"GET /classify?name=[CJ%ED%97%AC%EB%A1%9C%EB%AA%A8%EB%B0%94%EC%9D%BC%EA%B3%B5%EC%8B%9D%EA%B0%80%EC%9E%85%EC%84%BC%ED%84%B0]%20%EA%B0%A4%EB%9F%AD%EC%8B%9CS3(E210K)/HD%EC%95%84%EB%AA%B0%EB%A0%88%EB%93%9C/%EC%BF%BC%EB%93%9C%EC%BD%94%EC%96%B4/%EA%B0%80%EC%9E%85%EB%B9%84%E7%84%A1/%EC%9C%A0%EC%8B%AC%EB%B9%84%E7%84%A1/%EB%B6%80%EA%B0%80%E7%84%A1/%EC%B6%94%EA%B0%80%E7%84%A1&img=http://shopping.phinf.naver.net/main_7516109/7516109708.jpg HTTP/1.1\" 200 67\n",
      "121.140.65.88 - - [23/Aug/2016 07:57:28] \"GET /classify?name=%EA%B7%BC%ED%98%B8%20%20QNAP%20TS-851-4G%20(%ED%95%98%EB%93%9C%EB%AF%B8%ED%8F%AC%ED%95%A8)&img=http://shopping.phinf.naver.net/main_8403838/8403838841.jpg HTTP/1.1\" 200 72\n",
      "121.140.65.88 - - [23/Aug/2016 07:57:28] \"GET /classify?name=QNAP%20%20TS-851-4G%20(%ED%95%98%EB%93%9C%EB%AF%B8%ED%8F%AC%ED%95%A8)&img=http://shopping.phinf.naver.net/main_8242364/8242364760.jpg HTTP/1.1\" 200 72\n",
      "121.140.65.88 - - [23/Aug/2016 07:57:28] \"GET /classify?name=[%EC%9D%B4%EB%B2%A0%EC%9D%B4%EC%9A%A9](IC)3.5%EC%9D%B8%EC%B9%98%201%EB%B2%A0%EC%9D%B4%20%ED%95%98%EB%93%9C%EB%9E%99/H&img=http://shopping.phinf.naver.net/main_8252158/8252158629.jpg HTTP/1.1\" 200 72\n",
      "121.140.65.88 - - [23/Aug/2016 07:57:28] \"GET /classify?name=%ED%95%9C%EC%84%B1%EC%BB%B4%ED%93%A8%ED%84%B0%20EXN%20COMBO%20USB3.0/%EC%99%B8%EC%9E%A5DVD%EB%A0%88%EC%BD%94%EB%8D%94/%EC%99%B8%EC%9E%A5CD%EB%A1%AC&img=http://shopping.phinf.naver.net/main_8235228/8235228885.jpg HTTP/1.1\" 200 72\n",
      "121.140.65.88 - - [23/Aug/2016 07:57:28] \"GET /classify?name=pc%EB%B0%95%EC%8A%A4%20%EC%8B%A0%EC%84%B8%EA%B3%84%EC%97%90%EB%B0%98%EA%B2%8C%EB%A6%AC%EC%98%A8%20%EC%8B%A0%EC%A7%80%EC%9C%A1%EC%84%B1%EA%B3%84%ED%9A%8D&img=http://shopping.phinf.naver.net/main_8238373/8238373971.jpg HTTP/1.1\" 200 96\n",
      "121.140.65.88 - - [23/Aug/2016 07:57:28] \"GET /classify?name=[%ED%95%B4%EC%99%B8]%20Warner%20Bros%20Interactive%20Entertainment%20UK%20Middle-Ea%20%ED%95%B4%EC%99%B8%20%EC%A0%95%ED%92%88%20%EC%A7%81%EB%B0%B0%EC%86%A1&img=http://shopping.phinf.naver.net/main_8271344/8271344400.jpg HTTP/1.1\" 200 96\n",
      "121.140.65.88 - - [23/Aug/2016 07:57:28] \"GET /classify?name=1300K%20[%EB%89%B4%EC%97%90%EB%B2%84]%20%EA%B9%A8%EB%81%97%ED%95%9C%EA%B3%A0%EA%B0%90%EB%8F%84%EB%A7%88%EC%9D%B4%ED%81%AC%EC%B9%A9%20%EB%85%B9%EC%9D%8C%EC%84%B1%EB%8A%A5%EC%8A%A4%ED%83%A0%EB%93%9C%EB%A7%88%EC%9D%B4%ED%81%ACMIC03KK&img=http://shopping.phinf.naver.net/main_7886386/7886386604.jpg HTTP/1.1\" 200 107\n",
      "121.140.65.88 - - [23/Aug/2016 07:57:28] \"GET /classify?name=[BC%EC%B9%B4%EB%93%9C5%%ED%95%A0%EC%9D%B8][%EB%B0%94%EB%B3%B4%EC%82%AC%EB%9E%91]%EA%B3%A0%EA%B0%90%EB%8F%84%20%EC%8A%A4%ED%83%A0%EB%93%9C%20%EB%A7%88%EC%9D%B4%ED%81%AC%20MICROPHONE&img=http://shopping.phinf.naver.net/main_6156972/6156972439.16.jpg HTTP/1.1\" 200 107\n",
      "121.140.65.88 - - [23/Aug/2016 07:57:28] \"GET /classify?name=5%EB%A7%8C%EC%9B%90%E2%86%91%EA%B5%AC%EB%A7%A4%EC%8B%9C%20%EC%B5%9C%EB%8C%803%EB%A7%8C%EC%9B%90%20%EC%A0%81%EB%A6%BD%EC%9D%91%EB%AA%A8(%E5%BF%85)%EB%B9%88%ED%8B%B0%EC%A7%80%20%EB%8B%A4%EC%9A%A9%EB%8F%84%20%EC%A0%95%EB%A6%AC%ED%95%A8&img=http://shopping.phinf.naver.net/main_8332763/8332763575.jpg HTTP/1.1\" 200 91\n"
     ]
    },
    {
     "name": "stdout",
     "output_type": "stream",
     "text": [
      "5만원↑구매시 최대3만원 적립응모 必  크레용 무료배송 아이디어 다용도 수납함 5 만 원 ↑ 구매 시 최대 3 만 원 적립 응모 必 크레용 무료 배송 아이디어 다용 도 수납 함\n",
      "브리츠 BR 1100V Plus 브리츠 BR 1100 V Plus\n",
      "CAMAC CMK 680A CAMAC CMK 680 A\n",
      " 4 즉시할인쿠폰 이노시큐리티 휴바이론 SK AS01 실외 선바이저 CCTV 4 즉시 할인 쿠폰 이노 시큐리티 휴바 이론 SK AS 01 실외 선바이저 CCTV\n",
      " 해외 Case LogicCase Logic Notebook Webcam  Pink  WC501  해외 Case LogicCase Logic Notebook Webcam Pink WC 501\n",
      " 4 즉시할인쿠폰 C오디오광 케이블 2  Toslink to Toslink 3M 스테레 4 즉시 할인 쿠폰 C 오디 오광 케이블 2 Toslink to Toslink 3 M 스 테레\n",
      " 4 즉시할인쿠폰 Mini DisplayPort to VGA 케이블 10M 4 즉시 할인 쿠폰 Mini DisplayPort to VGA 케이블 10 M\n",
      "BRAVOTEC V6  Black USB 3 0 BRAVOTEC V 6 Black USB 3 0\n",
      "앱코 NCORE 바이퍼 헬퍼 3 0 블랙 앱 코 NCORE 바이퍼 헬퍼 3 0 블랙\n",
      "제닉스 게이밍 헤드셋 TESORO KUVEN 전용 리모콘 버추얼 7 1 서라운드 지원 고성능 마이크 외부 소음 완벽차단 엔젤 데빌 제닉스 게이밍 헤드셋 TESORO KUVEN 전용 리모 콘 버추얼 7 1 서라운드 지원 고성능 마이크 외부 소음 완벽 차단 엔젤 데빌\n",
      " TLS  제닉스 TESORO KUVEN ANGEL DEVIL 7 1 채널 게이밍 게임용 헤드셋 2가지색상 볼륨컨트롤 TLS 제닉스 TESORO KUVEN ANGEL DEVIL 7 1 채널 게이밍 게임 용 헤드셋 2 가지 색상 볼륨 컨트롤\n"
     ]
    },
    {
     "name": "stderr",
     "output_type": "stream",
     "text": [
      "121.140.65.88 - - [23/Aug/2016 07:57:28] \"GET /classify?name=5%EB%A7%8C%EC%9B%90%E2%86%91%EA%B5%AC%EB%A7%A4%EC%8B%9C%20%EC%B5%9C%EB%8C%803%EB%A7%8C%EC%9B%90%20%EC%A0%81%EB%A6%BD%EC%9D%91%EB%AA%A8(%E5%BF%85)[%ED%81%AC%EB%A0%88%EC%9A%A9]%EB%AC%B4%EB%A3%8C%EB%B0%B0%EC%86%A1%20%EC%95%84%EC%9D%B4%EB%94%94%EC%96%B4%20%EB%8B%A4%EC%9A%A9%EB%8F%84%20%EC%88%98%EB%82%A9%ED%95%A8&img=http://shopping.phinf.naver.net/main_8142652/8142652459.1.jpg HTTP/1.1\" 200 91\n",
      "121.140.65.88 - - [23/Aug/2016 07:57:28] \"GET /classify?name=%EB%B8%8C%EB%A6%AC%EC%B8%A0%20BR-1100V%20Plus&img=http://shopping.phinf.naver.net/main_6319778/6319778737.20120510163331.jpg HTTP/1.1\" 200 107\n",
      "121.140.65.88 - - [23/Aug/2016 07:57:28] \"GET /classify?name=CAMAC%20CMK-680A&img=http://shopping.phinf.naver.net/main_5483057/5483057680.20120211170932.jpg HTTP/1.1\" 200 107\n",
      "121.140.65.88 - - [23/Aug/2016 07:57:28] \"GET /classify?name=[4%%EC%A6%89%EC%8B%9C%ED%95%A0%EC%9D%B8%EC%BF%A0%ED%8F%B0]%EC%9D%B4%EB%85%B8%EC%8B%9C%ED%81%90%EB%A6%AC%ED%8B%B0/%ED%9C%B4%EB%B0%94%EC%9D%B4%EB%A1%A0/SK-AS01/%EC%8B%A4%EC%99%B8%20%EC%84%A0%EB%B0%94%EC%9D%B4%EC%A0%80/CCTV&img=http://shopping.phinf.naver.net/main_8277625/8277625715.jpg HTTP/1.1\" 200 107\n",
      "121.140.65.88 - - [23/Aug/2016 07:57:28] \"GET /classify?name=[%ED%95%B4%EC%99%B8]Case%20LogicCase%20Logic%20Notebook%20Webcam,%20Pink%20(WC501)&img=http://shopping.phinf.naver.net/main_8275759/8275759480.jpg HTTP/1.1\" 200 107\n",
      "121.140.65.88 - - [23/Aug/2016 07:57:28] \"GET /classify?name=[4%%EC%A6%89%EC%8B%9C%ED%95%A0%EC%9D%B8%EC%BF%A0%ED%8F%B0]C%EC%98%A4%EB%94%94%EC%98%A4%EA%B4%91%20%EC%BC%80%EC%9D%B4%EB%B8%94%202%20%20Toslink%20to%20Toslink%203M%20%EC%8A%A4%ED%85%8C%EB%A0%88&img=http://shopping.phinf.naver.net/main_8276190/8276190861.jpg HTTP/1.1\" 200 79\n",
      "121.140.65.88 - - [23/Aug/2016 07:57:28] \"GET /classify?name=[4%%EC%A6%89%EC%8B%9C%ED%95%A0%EC%9D%B8%EC%BF%A0%ED%8F%B0]Mini%20DisplayPort%20to%20VGA%20%EC%BC%80%EC%9D%B4%EB%B8%94%2010M&img=http://shopping.phinf.naver.net/main_8284077/8284077115.jpg HTTP/1.1\" 200 79\n",
      "121.140.65.88 - - [23/Aug/2016 07:57:28] \"GET /classify?name=BRAVOTEC%20V6+%20Black%20USB%203.0&img=http://shopping.phinf.naver.net/main_7185226/7185226645.20131008095655.jpg HTTP/1.1\" 200 79\n",
      "121.140.65.88 - - [23/Aug/2016 07:57:28] \"GET /classify?name=%EC%95%B1%EC%BD%94%20NCORE%20%EB%B0%94%EC%9D%B4%ED%8D%BC%20%ED%97%AC%ED%8D%BC%203.0%20%EB%B8%94%EB%9E%99&img=http://shopping.phinf.naver.net/main_7287355/7287355315.20131122150233.jpg HTTP/1.1\" 200 79\n",
      "121.140.65.88 - - [23/Aug/2016 07:57:28] \"GET /classify?name=%EC%A0%9C%EB%8B%89%EC%8A%A4%20%EA%B2%8C%EC%9D%B4%EB%B0%8D%20%ED%97%A4%EB%93%9C%EC%85%8B%20TESORO%20KUVEN/%EC%A0%84%EC%9A%A9%20%EB%A6%AC%EB%AA%A8%EC%BD%98/%EB%B2%84%EC%B6%94%EC%96%BC%207.1%20%EC%84%9C%EB%9D%BC%EC%9A%B4%EB%93%9C%20%EC%A7%80%EC%9B%90/%EA%B3%A0%EC%84%B1%EB%8A%A5%20%EB%A7%88%EC%9D%B4%ED%81%AC/%EC%99%B8%EB%B6%80%20%EC%86%8C%EC%9D%8C%20%EC%99%84%EB%B2%BD%EC%B0%A8%EB%8B%A8/%EC%97%94%EC%A0%A4,%EB%8D%B0%EB%B9%8C&img=http://shopping.phinf.naver.net/main_8108764/8108764745.jpg HTTP/1.1\" 200 107\n",
      "121.140.65.88 - - [23/Aug/2016 07:57:28] \"GET /classify?name=[TLS]%20%EC%A0%9C%EB%8B%89%EC%8A%A4%20TESORO%20KUVEN%20ANGEL/DEVIL%207.1%20%EC%B1%84%EB%84%90%20%EA%B2%8C%EC%9D%B4%EB%B0%8D/%EA%B2%8C%EC%9E%84%EC%9A%A9%20%ED%97%A4%EB%93%9C%EC%85%8B/2%EA%B0%80%EC%A7%80%EC%83%89%EC%83%81/%EB%B3%BC%EB%A5%A8%EC%BB%A8%ED%8A%B8%EB%A1%A4&img=http://shopping.phinf.naver.net/main_7315076/7315076363.jpg HTTP/1.1\" 200 107\n",
      "121.140.65.88 - - [23/Aug/2016 07:57:28] \"GET /classify?name=[%EC%95%84%ED%8A%B8%EB%B0%95%EC%8A%A4%20POOM/%EB%91%90%20%EB%94%94%EC%9E%90%EC%9D%B8%20%EC%8A%A4%ED%8A%9C%EB%94%94%EC%98%A4]%20%EB%8D%A9%EA%B5%B4%EC%84%A0%EC%A0%95%EB%A6%AC%EA%B8%B0&img=http://shopping.phinf.naver.net/main_8359639/8359639455.jpg HTTP/1.1\" 200 141\n",
      "121.140.65.88 - - [23/Aug/2016 07:57:28] \"GET /classify?name=[%ED%9B%84%EC%B6%94%ED%86%B5(%ED%82%A4%EB%8D%9C%ED%8A%B8,%EC%B7%A8%EB%AF%B8)]%20%ED%9E%90%EB%A7%81%EC%89%B4%EB%93%9C%20%EC%BD%94%EC%9B%90%20G7%20%EC%99%B8%EB%B6%80%EB%B3%B4%ED%98%B8%ED%95%84%EB%A6%84%202%EB%A7%A4(%EC%83%81%ED%8C%90%201%EB%A7%A4/%ED%95%98%ED%8C%90_P014803609&img=http://shopping.phinf.naver.net/main_7576786/7576786997.jpg HTTP/1.1\" 200 104\n",
      "121.140.65.88 - - [23/Aug/2016 07:57:28] \"GET /classify?name=[4%%EC%A6%89%EC%8B%9C%ED%95%A0%EC%9D%B8%EC%BF%A0%ED%8F%B0]%EC%8B%A0%EB%8F%84%EB%A7%A4%EC%9C%A0%ED%86%B5-VGN-UX58%20%EC%86%8C%EB%8B%88%20SONY%20UMPC%20%EC%A0%84%EC%9A%A9%204.5%EC%9D%B8%EC%B9%98%20%EC%95%A1&img=http://shopping.phinf.naver.net/main_8247605/8247605196.jpg HTTP/1.1\" 200 81\n",
      "121.140.65.88 - - [23/Aug/2016 07:57:29] \"GET /classify?name=DC25%20Z1%20%EB%88%84%EB%A6%AC%EC%95%88%20NURIAN%20%ED%95%9C%EB%88%84%EB%A6%AC%EB%B9%84%EC%A6%88%20%EC%A0%84%EC%9A%A9%205%EC%9D%B8%EC%B9%98%20%EC%A0%84%EC%9E%90&img=http://shopping.phinf.naver.net/main_8270238/8270238089.jpg HTTP/1.1\" 200 81\n",
      "121.140.65.88 - - [23/Aug/2016 07:57:29] \"GET /classify?name=[COWON][WESTONE]%20%20(PLENUE1)%20P1%20X%20UMPRO20&img=http://shopping.phinf.naver.net/main_8264827/8264827478.jpg HTTP/1.1\" 200 72\n",
      "121.140.65.88 - - [23/Aug/2016 07:57:29] \"GET /classify?name=%EC%96%91%EB%B0%A9%ED%96%A5%ED%86%B5%EC%97%AD%EA%B8%B0%20%EB%8B%A4%EA%B5%AD%EC%96%B4%ED%86%B5%EC%97%AD/%EB%B2%88%EC%97%AD/16%EA%B0%9C%EA%B5%AD/mp3%EB%9D%BC%EB%94%94%EC%98%A4%20Q19&img=http://shopping.phinf.naver.net/main_8276132/8276132857.jpg HTTP/1.1\" 200 72\n",
      "121.140.65.88 - - [23/Aug/2016 07:57:29] \"GET /classify?name=[4%%EC%A6%89%EC%8B%9C%ED%95%A0%EC%9D%B8%EC%BF%A0%ED%8F%B0][%ED%95%B4%EC%99%B8%EC%A7%81%EB%B0%B0%EC%86%A1]Panasonic%20CF-53JALZY1M%20TB%2053%20I5-3320m%202.60g%204GB%20500GB%20DVDRW%2014in-hd%20Wl%20Bluetooth%20Wi&img=http://shopping.phinf.naver.net/main_8283220/8283220310.jpg HTTP/1.1\" 200 72\n",
      "121.140.65.88 - - [23/Aug/2016 07:57:29] \"GET /classify?name=[4%%EC%A6%89%EC%8B%9C%ED%95%A0%EC%9D%B8%EC%BF%A0%ED%8F%B0][%ED%95%B4%EC%99%B8%EC%A7%81%EB%B0%B0%EC%86%A1]Asus%20ASUS%20VivoBook%2015.6-Inch%20HD%20Touchscreen%20Laptop%20%20Core%20i5/40088342&img=http://shopping.phinf.naver.net/main_8283208/8283208858.jpg HTTP/1.1\" 200 89\n",
      "121.140.65.88 - - [23/Aug/2016 07:57:29] \"GET /classify?name=[SKT%20%EA%B8%B0%EA%B8%B0%EB%B3%80%EA%B2%BD]G3%20Cat.6(LG-F460S)%E2%98%86%EC%A0%84%EA%B5%AD%EB%AF%BC%EB%AC%B4%ED%95%9C100%E2%98%86%ED%95%A0%EB%B6%80%EC%9B%90%EA%B8%88%20512200%E2%98%86%EA%B0%80%EC%9E%85%EB%B9%84%EB%A9%B4%EC%A0%9C%E2%98%86%EC%9C%A0%EC%8B%AC%EB%B9%84%ED%9B%84%EC%B2%AD%EA%B5%AC(9,900%EC%9B%90)%E2%98%86%EC%9C%84%EC%95%BD%EA%B8%88(%EB%82%A8%EC%9D%80%20%ED%95%A0%EB%B6%80%EC%9B%90%EA%B8%88,%EB%B0%9B%EC%9D%80%20%EC%A7%80%EC%9B%90%EA%B8%88,%EC%95%BD%EC%A0%95%ED%95%A0%EC%9D%B8%EA%B8%88)%E2%98%86%EB%B6%80%EA%B0%80%EC%84%9C&img=http://shopping.phinf.naver.net/main_8121397/8121397253.jpg HTTP/1.1\" 200 66\n",
      "121.140.65.88 - - [23/Aug/2016 07:57:29] \"GET /classify?name=[SKT%EA%B8%B0%EA%B8%B0%EB%B3%80%EA%B2%BD]%20[%ED%81%B4%EB%9F%BDT]%20[LG-F460S]%20[G3%20CAT6]%20[%ED%95%A0%EB%B6%80%EC%9B%90%EA%B8%88799,700%EC%9B%90]%20[LTE%ED%94%8C%EB%9F%AC%EC%8A%A4%EC%95%BD%EC%A0%9524%EA%B0%9C%EC%9B%94]%20[%EA%B0%80%EC%9E%85%EB%B9%84%EB%AC%B4%EB%A3%8C/%EC%9C%A0%EC%8B%AC%ED%9B%84%EB%82%A9]%20[%EC%9C%84%EC%95%BD%EA%B8%88%EC%A0%81%EC%9A%A9]%20[%EB%B6%80%EA%B0%80X]%20[%EC%BC%80%EC%9D%B4%EC%8A%A4+%ED%95%84&img=http://shopping.phinf.naver.net/main_8223536/8223536959.jpg HTTP/1.1\" 200 66\n"
     ]
    },
    {
     "name": "stdout",
     "output_type": "stream",
     "text": [
      " 아트박스 POOM 두 디자인 스튜디오  덩굴선정리기 아트 박스 POOM 두 디자인 스튜디오 덩굴 선정 리기\n",
      " 후추통 키덜트 취미   힐링쉴드 코원 G7 외부보호필름 2매 상판 1매 하판 P014803609 후추 통 키덜트 취미 힐링 쉴드 코원 G 7 외부 보호 필름 2 매 상판 1 매 하판 P 014803609\n",
      " 4 즉시할인쿠폰 신도매유통 VGN UX58 소니 SONY UMPC 전용 4 5인치 액 4 즉시 할인 쿠폰 신 도매 유통 VGN UX 58 소니 SONY UMPC 전용 4 5 인치 액\n",
      "DC25 Z1 누리안 NURIAN 한누리비즈 전용 5인치 전자 DC 25 Z 1 누리안 NURIAN 한누리비즈 전용 5 인치 전자\n",
      " COWON  WESTONE    PLENUE1  P1 X UMPRO20 COWON WESTONE PLENUE 1 P 1 X UMPRO 20\n",
      "양방향통역기 다국어통역 번역 16개국 mp3라디오 Q19 양방향 통역 기 다 국어 통역 번역 16 개국 mp 3 라디오 Q 19\n",
      " 4 즉시할인쿠폰  해외직배송 Panasonic CF 53JALZY1M TB 53 I5 3320m 2 60g 4GB 500GB DVDRW 14in hd Wl Bluetooth Wi 4 즉시 할인 쿠폰 해 외직 배송 Panasonic CF 53 JALZY 1 M TB 53 I 5 3320 m 2 60 g 4 GB 500 GB DVDRW 14 in hd Wl Bluetooth Wi\n",
      " 4 즉시할인쿠폰  해외직배송 Asus ASUS VivoBook 15 6 Inch HD Touchscreen Laptop  Core i5 40088342 4 즉시 할인 쿠폰 해 외직 배송 Asus ASUS VivoBook 15 6 Inch HD Touchscreen Laptop Core i 5 40088342\n",
      " SKT 기기변경 G3 Cat 6 LG F460S ☆전국민무한100☆할부원금 512200☆가입비면제☆유심비후청구 9 900원 ☆위약금 남은 할부원금 받은 지원금 약정할인금 ☆부가서 SKT 기기 변경 G 3 Cat 6 LG F 460 S ☆ 전국 민무 한 100 ☆ 할부 원금 512200 ☆ 가입비 면제 ☆ 유심 비후 청구 9 900 원 ☆ 위약금 남 은 할부 원금 받 은 지원금 약정 할 인금 ☆ 부가 서\n",
      " SKT기기변경   클럽T   LG F460S   G3 CAT6   할부원금799 700원   LTE플러스약정24개월   가입비무료 유심후납   위약금적용   부가X   케이스 필 SKT 기기 변경 클럽 T LG F 460 S G 3 CAT 6 할부 원금 799 700 원 LTE 플러스 약정 24 개월 가입비 무료 유심 후 납 위약금 적용 부가 X 케이스 필\n",
      "샌디스크 Basic SSD 128GB 샌디스크 Basic SSD 128 GB\n"
     ]
    },
    {
     "name": "stderr",
     "output_type": "stream",
     "text": [
      "121.140.65.88 - - [23/Aug/2016 07:57:29] \"GET /classify?name=%EC%83%8C%EB%94%94%EC%8A%A4%ED%81%AC%20Basic%20SSD%20128GB&img=http://shopping.phinf.naver.net/main_6655960/6655960659.20121101151431.jpg HTTP/1.1\" 200 72\n",
      "121.140.65.88 - - [23/Aug/2016 07:57:29] \"GET /classify?name=BIWIN%20SATA%20DOM%20Vertical%20D6214%2016GB&img=http://shopping.phinf.naver.net/main_7016604/7016604975.20140121165222.jpg HTTP/1.1\" 200 90\n",
      "121.140.65.88 - - [23/Aug/2016 07:57:29] \"GET /classify?name=%EC%82%BC%EC%84%B1%EC%A0%84%EC%9E%90%20UN28H4200AF&img=http://shopping.phinf.naver.net/main_7469385/7469385724.20140207150255.jpg HTTP/1.1\" 200 71\n",
      "121.140.65.88 - - [23/Aug/2016 07:57:29] \"GET /classify?name=[4%%EC%A6%89%EC%8B%9C%ED%95%A0%EC%9D%B8%EC%BF%A0%ED%8F%B0][%ED%95%B4%EC%99%B8]LG%EC%A0%84%EC%9E%90%20LG%2065%EC%9D%B8%EC%B9%98%20LEDTV%20%2065LB5200&img=http://shopping.phinf.naver.net/main_8257522/8257522143.jpg HTTP/1.1\" 200 71\n",
      "121.140.65.88 - - [23/Aug/2016 07:57:29] \"GET /classify?name=[PCD]AverMedia%20Live%20Gamer%20HD%20(PCI%20Express%20%EC%BA%A1%EC%B3%90%EC%B9%B4%EB%93%9C/1080p)&img=http://shopping.phinf.naver.net/main_8187832/8187832600.jpg HTTP/1.1\" 200 115\n",
      "121.140.65.88 - - [23/Aug/2016 07:57:29] \"GET /classify?name=[%EB%AC%B4%EB%A6%BC2]%20[%EC%8A%A4%EC%B9%B4%EC%9D%B4%EB%94%94%EC%A7%80%ED%83%88]%20SKYTV%20HD%20YELLOW&img=http://shopping.phinf.naver.net/main_8146825/8146825361.jpg HTTP/1.1\" 200 101\n",
      "121.140.65.88 - - [23/Aug/2016 07:57:29] \"GET /classify?name=[4%%EC%A6%89%EC%8B%9C%ED%95%A0%EC%9D%B8%EC%BF%A0%ED%8F%B0][%EB%B0%94%EB%B3%B4%EC%82%AC%EB%9E%91]%EB%AF%B8%EB%8B%88%EC%8A%A4%EC%9C%99%20Mini%20swing%204G%20USB%EB%A9%94%EB%AA%A8%EB%A6%AC%20%EC%9E%91%EA%B3%A0%20%EA%B0%80%EB%B2%BC%EC%9A%B4%20%EC%8A%A4%EC%9C%99%ED%83%80%EC%9E%85[%EB%AC%B4%EB%A3%8C%EB%B0%B0%EC%86%A1]&img=http://shopping.phinf.naver.net/main_7259091/7259091479.jpg HTTP/1.1\" 200 72\n",
      "121.140.65.88 - - [23/Aug/2016 07:57:29] \"GET /classify?name=1300K%20[%EC%A0%95%EC%95%A0%EC%9D%B4%EB%85%B8%EB%B2%A0%EC%9D%B4%EC%85%98]%20%EC%A0%9C%EC%9D%B4%EB%A9%94%ED%83%80%20JMETA%20%20C3%20%EB%AF%BC%ED%99%94%20%EC%B9%B4%EB%93%9C%ED%98%95USB%20No%2002%20%204GB&img=http://shopping.phinf.naver.net/main_7687189/7687189697.jpg HTTP/1.1\" 200 90\n",
      "121.140.65.88 - - [23/Aug/2016 07:57:29] \"GET /classify?name=[S-MODO.283A]%20NEW%20USB%20%EC%86%90%EB%82%9C%EB%A1%9C%20%ED%9C%B4%EB%8C%80%ED%8F%B0%20%EB%B3%B4%EC%A1%B0%EB%B0%B0%ED%84%B0%EB%A6%AC&img=http://shopping.phinf.naver.net/main_8191109/8191109532.jpg HTTP/1.1\" 200 98\n",
      "121.140.65.88 - - [23/Aug/2016 07:57:29] \"GET /classify?name=[4%%EC%A6%89%EC%8B%9C%ED%95%A0%EC%9D%B8%EC%BF%A0%ED%8F%B0]%EC%BC%80%EC%9D%B4%ED%83%91%EC%95%84%EC%9D%B4%EC%95%A4%ED%8B%B0%20KT-780%20%EA%B2%8C%EC%9D%B4%EB%B0%8D%20%EC%9E%A5%ED%8C%A8%EB%93%9C%20(%EB%B8%94%EB%A3%A8%EB%9D%BC%EC%9D%B8)&img=http://shopping.phinf.naver.net/main_8280746/8280746517.jpg HTTP/1.1\" 200 100\n"
     ]
    },
    {
     "name": "stdout",
     "output_type": "stream",
     "text": [
      "BIWIN SATA DOM Vertical D6214 16GB BIWIN SATA DOM Vertical D 6214 16 GB\n",
      "삼성전자 UN28H4200AF 삼성전자 UN 28 H 4200 AF\n",
      " 4 즉시할인쿠폰  해외 LG전자 LG 65인치 LEDTV  65LB5200 4 즉시 할인 쿠폰 해외 LG 전자 LG 65 인치 LEDTV 65 LB 5200\n",
      " PCD AverMedia Live Gamer HD  PCI Express 캡쳐카드 1080p  PCD AverMedia Live Gamer HD PCI Express 캡쳐 카드 1080 p\n",
      " 무림2   스카이디지탈  SKYTV HD YELLOW 무림 2 스카이 디지탈 SKYTV HD YELLOW\n",
      " 4 즉시할인쿠폰  바보사랑 미니스윙 Mini swing 4G USB메모리 작고 가벼운 스윙타입 무료배송  4 즉시 할인 쿠폰 바보 사랑 미니 스윙 Mini swing 4 G USB 메모리 작 고 가벼운 스윙 타입 무료 배송\n",
      "1300K  정애이노베이션  제이메타 JMETA  C3 민화 카드형USB No 02  4GB 1300 K 정애 이노베이션 제이 메타 JMETA C 3 민화 카드 형 USB No 02 4 GB\n",
      " S MODO 283A  NEW USB 손난로 휴대폰 보조배터리 S MODO 283 A NEW USB 손난로 휴대폰 보조 배터리\n",
      " 4 즉시할인쿠폰 케이탑아이앤티 KT 780 게이밍 장패드  블루라인  4 즉시 할인 쿠폰 케이 탑 아이 앤 티 KT 780 게이밍 장 패드 블 루 라인\n",
      " 4 즉시할인쿠폰 동양매직 GRA C2062R 15년형 신모델  전화구센서적용  4 즉시 할인 쿠폰 동양 매직 GRA C 2062 R 15 년 형 신 모델 전화 구 센서 적용\n"
     ]
    },
    {
     "name": "stderr",
     "output_type": "stream",
     "text": [
      "121.140.65.88 - - [23/Aug/2016 07:57:29] \"GET /classify?name=[4%%EC%A6%89%EC%8B%9C%ED%95%A0%EC%9D%B8%EC%BF%A0%ED%8F%B0]%EB%8F%99%EC%96%91%EB%A7%A4%EC%A7%81%20GRA-C2062R%2015%EB%85%84%ED%98%95%20%EC%8B%A0%EB%AA%A8%EB%8D%B8%20(%EC%A0%84%ED%99%94%EA%B5%AC%EC%84%BC%EC%84%9C%EC%A0%81%EC%9A%A9)&img=http://shopping.phinf.naver.net/main_8258456/8258456057.jpg HTTP/1.1\" 200 99\n",
      "121.140.65.88 - - [23/Aug/2016 07:57:29] \"GET /classify?name=[4%%EC%A6%89%EC%8B%9C%ED%95%A0%EC%9D%B8%EC%BF%A0%ED%8F%B0]%ED%82%A4%EC%B9%9C%EB%A7%88%EC%8A%A4%ED%84%B0%20B%EC%84%B8%ED%8A%B8%20PKM-F301NC%20(%ED%9B%84%EB%93%9C+3%EA%B5%AC%EA%B0%80%EC%8A%A4%EB%A0%88%EC%9D%B8%EC%A7%80)&img=http://shopping.phinf.naver.net/main_8265491/8265491346.jpg HTTP/1.1\" 200 134\n",
      "121.140.65.88 - - [23/Aug/2016 07:57:29] \"GET /classify?name=%ED%8C%8C%EC%84%B8%EC%BD%94%20%EB%B9%8C%ED%8A%B8%EC%9D%B8%20%EB%A7%88%EC%9A%B4%ED%8B%B4%20%ED%9B%84%EB%93%9C%20PHD-M670ST/%EB%A0%88%EC%9D%B8%EC%A7%80%ED%9B%84%EB%93%9C&img=http://shopping.phinf.naver.net/main_8156805/8156805520.jpg HTTP/1.1\" 200 111\n",
      "121.140.65.88 - - [23/Aug/2016 07:57:29] \"GET /classify?name=[%ED%98%B8%EC%95%BC%EB%8B%B7%EC%BB%B4][%EA%B0%80%EC%8A%A4%EB%A0%88%EC%9D%B8%EC%A7%80]%20%EB%8F%84%EB%A7%A4%ED%8A%B9%EA%B0%80(GKS10649)-%ED%95%AD%EA%B7%A0%20%EB%A0%8C%EC%A7%80%20%ED%9B%84%EB%93%9C%20%ED%95%84%ED%84%B0(1%EB%A7%A4)%20(50cm%C3%9730cm)&img=http://shopping.phinf.naver.net/main_8157329/8157329730.jpg HTTP/1.1\" 200 111\n",
      "121.140.65.88 - - [23/Aug/2016 07:57:29] \"GET /classify?name=%EC%97%98%EC%A7%80%20%EC%82%B4%EA%B7%A0%EC%8A%A4%ED%8B%B0%EB%A8%B8%20%EC%8A%A4%EC%BC%80%EC%9D%BC%ED%95%84%ED%84%B01%EC%9E%A5%E3%85%A3%EA%B0%80%EC%8A%B5%EA%B8%B0%ED%95%84%ED%84%B0&img=http://shopping.phinf.naver.net/main_8219303/8219303006.jpg HTTP/1.1\" 200 87\n",
      "121.140.65.88 - - [23/Aug/2016 07:57:29] \"GET /classify?name=[%ED%95%B4%EC%99%B8]BabyGanics[%EC%95%84%EB%A7%88%EC%A1%B4]BabyGanics%203x%20Concentrated%20Laundry%20Detergent,%20Packaging%20May%20Vary&img=http://shopping.phinf.naver.net/main_8251174/8251174305.jpg HTTP/1.1\" 200 124\n",
      "121.140.65.88 - - [23/Aug/2016 07:57:29] \"GET /classify?name=[%EB%8B%8C%ED%85%90%EB%8F%84%203DSXL%20%ED%8A%B9%EB%B3%84%EA%B5%AC%EC%84%B1]%203DS%20XL+%EC%8B%A0%20%EC%84%B8%EA%B3%84%EC%88%98%EC%9D%98%20%EB%AF%B8%EA%B6%81+%ED%8A%80%EC%96%B4%EB%82%98%EC%99%80%EC%9A%94%20%EB%8F%99%EB%AC%BC%EC%9D%98%20%EC%88%B2+%EC%BC%80%EC%9D%B4%EC%8A%A4+%ED%95%84%EB%A6%84&img=http://shopping.phinf.naver.net/main_8334871/8334871128.jpg HTTP/1.1\" 200 112\n",
      "121.140.65.88 - - [23/Aug/2016 07:57:29] \"GET /classify?name=[%EC%84%B8%EC%9D%B4%EC%BD%94%EB%A9%94%ED%8A%B8%EB%A1%9C%ED%8A%9C%EB%84%88]%20SEIKO%20Metronome%20Tuner%20STH-100%20%20%20STH100%20%EB%A9%94%ED%8A%B8%EB%A1%9C%EB%86%88+%ED%8A%9C%EB%84%88%20%ED%8A%9C%EB%8B%9D%EA%B8%B0%20%EC%A1%B0%EC%9C%A8%EA%B8%B0%20%EA%B8%B0%ED%83%80%ED%8A%9C%EB%84%88&img=http://shopping.phinf.naver.net/main_7805279/7805279635.jpg HTTP/1.1\" 200 101\n",
      "121.140.65.88 - - [23/Aug/2016 07:57:29] \"GET /classify?name=%EC%98%A4%EB%9D%BC%ED%81%B4%20%EB%8D%B0%EC%9D%B4%ED%84%B0%EB%B2%A0%EC%9D%B4%EC%8A%A4%20%EC%8A%A4%ED%85%90%EB%8B%A4%EB%93%9C%20%EC%97%90%EB%94%94%EC%85%98%2011g%20AIX%EC%9A%A9%204%ED%94%84%EB%A1%9C%EC%84%B8%EC%84%9C(%EC%82%AC%EC%9A%A9%EC%9E%90%EB%AC%B4%EC%A0%9C%ED%95%9C)&img=http://shopping.phinf.naver.net/main_8245964/8245964615.jpg HTTP/1.1\" 200 93\n",
      "121.140.65.88 - - [23/Aug/2016 07:57:29] \"GET /classify?name=%EC%98%A4%EB%9D%BC%ED%81%B4%20%EB%8D%B0%EC%9D%B4%ED%84%B0%EB%B2%A0%EC%9D%B4%EC%8A%A4%20%EC%8A%A4%ED%85%90%EB%8B%A4%EB%93%9C%20%EC%97%90%EB%94%94%EC%85%98%20ONE%2011g%20%EC%9C%A0%EB%8B%89%EC%8A%A4%EC%9A%A9%202%ED%94%84%EB%A1%9C%EC%84%B8%EC%84%9C(%EC%82%AC%EC%9A%A9%EC%9E%90%EB%AC%B4%EC%A0%9C%ED%95%9C)&img=http://shopping.phinf.naver.net/main_8245964/8245964552.jpg HTTP/1.1\" 200 93\n"
     ]
    },
    {
     "name": "stdout",
     "output_type": "stream",
     "text": [
      " 4 즉시할인쿠폰 키친마스터 B세트 PKM F301NC  후드 3구가스레인지  4 즉시 할인 쿠폰 키친 마스터 B 세트 PKM F 301 NC 후드 3 구 가스레인지\n",
      "파세코 빌트인 마운틴 후드 PHD M670ST 레인지후드 파세코 빌트인 마운틴 후드 PHD M 670 ST 레인지 후드\n",
      " 호야닷컴  가스레인지  도매특가 GKS10649  항균 렌지 후드 필터 1매   50cm×30cm  호야 닷컴 가스레인지 도매 특가 GKS 10649 항균 렌지 후드 필터 1 매 50 cm× 30 cm\n",
      "엘지 살균스티머 스케일필터1장ㅣ가습기필터 엘지 살균 스티 머 스케일 필터 1 장 ㅣ 가 습기 필터\n",
      " 해외 BabyGanics 아마존 BabyGanics 3x Concentrated Laundry Detergent  Packaging May Vary 해외 BabyGanics 아마존 BabyGanics 3 x Concentrated Laundry Detergent Packaging May Vary\n",
      " 닌텐도 3DSXL 특별구성  3DS XL 신 세계수의 미궁 튀어나와요 동물의 숲 케이스 필름 닌텐도 3 DSXL 특별 구성 3 DS XL 신 세계수 의 미궁 튀 어 나와요 동물 의 숲 케이스 필름\n",
      " 세이코메트로튜너  SEIKO Metronome Tuner STH 100   STH100 메트로놈 튜너 튜닝기 조율기 기타튜너 세이코 메트로 튜너 SEIKO Metronome Tuner STH 100 STH 100 메트로놈 튜너 튜닝 기 조율기 기타 튜너\n",
      "오라클 데이터베이스 스텐다드 에디션 11g AIX용 4프로세서 사용자무제한  오라클 데이터베이스 스텐 다드 에디션 11 g AIX 용 4 프로세서 사용 자무 제한\n",
      "오라클 데이터베이스 스텐다드 에디션 ONE 11g 유닉스용 2프로세서 사용자무제한  오라클 데이터베이스 스텐 다드 에디션 ONE 11 g 유닉스 용 2 프로세서 사용 자무 제한\n",
      " Aero Milk  에어로밀크 최신형 전자동우유거품기 MMF 003 Aero Milk 에어로 밀크 최신형 전자동 우유 거품기 MMF 003\n"
     ]
    },
    {
     "name": "stderr",
     "output_type": "stream",
     "text": [
      "121.140.65.88 - - [23/Aug/2016 07:57:29] \"GET /classify?name=[Aero-Milk]%20%EC%97%90%EC%96%B4%EB%A1%9C%EB%B0%80%ED%81%AC%20%EC%B5%9C%EC%8B%A0%ED%98%95%20%EC%A0%84%EC%9E%90%EB%8F%99%EC%9A%B0%EC%9C%A0%EA%B1%B0%ED%92%88%EA%B8%B0%20MMF-003&img=http://shopping.phinf.naver.net/main_7443264/7443264949.jpg HTTP/1.1\" 200 100\n",
      "121.140.65.88 - - [23/Aug/2016 07:57:29] \"GET /classify?name=[SEVERIN]%EB%8F%85%EC%9D%BC%20%EC%84%B8%EB%B2%84%EB%A6%B0%20%EC%9D%B8%EB%8D%95%EC%85%98%20%EB%B0%80%ED%81%AC%ED%94%84%EB%A1%9C%EB%8D%94%20SM9684%20110%EB%85%84%20%EC%A0%84%ED%86%B5%20%EB%8F%85%EC%9D%BC%EC%86%8C%ED%98%95%20%EA%B0%80%EC%A0%84%EC%A0%9C%ED%92%88&img=http://shopping.phinf.naver.net/main_8206593/8206593027.jpg HTTP/1.1\" 200 105\n",
      "121.140.65.88 - - [23/Aug/2016 07:57:29] \"GET /classify?name=[4%%EC%A6%89%EC%8B%9C%ED%95%A0%EC%9D%B8%EC%BF%A0%ED%8F%B0]%EA%B5%B0%ED%99%94/%EB%8B%A8%EC%B2%B4%EC%9A%A9/%EA%B3%A8%ED%94%84%EC%9E%A5/%EA%B5%90%ED%9A%8C/%ED%9A%8C%EC%82%AC/%EA%B3%B5%EC%9E%A5/%ED%95%99%EA%B5%90/%EA%B8%B0%EC%88%99%EC%82%AC/%EB%8B%A8%EC%B2%B4/%EC%8B%A0%EB%B0%9C%EC%86%8C%EB%8F%85%EA%B8%B0/%EC%8B%A0%EB%B0%9C%EC%86%8C%EB%8F%85%EA%B1%B4%EC%A1%B0%EC%82%B4%EA%B7%A0/12%EC%BC%A4%EB%A0%88/%EC%A0%84%ED%88%AC%ED%99%94%EA%B1%B4%EC%A1%B0%EC%9A%A9&img=http://shopping.phinf.naver.net/main_6575804/6575804724.1.jpg HTTP/1.1\" 200 106\n",
      "121.140.65.88 - - [23/Aug/2016 07:57:29] \"GET /classify?name=[4%%EC%A6%89%EC%8B%9C%ED%95%A0%EC%9D%B8%EC%BF%A0%ED%8F%B0]-[%EC%A0%95%ED%92%88]%EA%B3%B5%EC%9E%A5%EC%A7%81%EC%98%81%20%EC%94%A8%EC%9B%90%20%EC%95%88%EC%A0%84%ED%99%94%20%EC%82%B4%EA%B7%A0%EA%B1%B4%EC%A1%B0%EA%B8%B0%20SDB-2406/24%EC%BC%A4%EB%A0%88%EC%9A%A9/%EC%82%B4%EA%B7%A0%ED%83%88%EC%B7%A8/%EC%97%B4%ED%92%8D%EA%B1%B4%EC%A1%B0/%EC%8B%A0%EB%B0%9C%EC%82%B4%EA%B7%A0%EA%B1%B4%EC%A1%B0%EA%B8%B0/AS%EB%B3%B4%EC%9E%A5&img=http://shopping.phinf.naver.net/main_7122576/7122576705.1.jpg HTTP/1.1\" 200 106\n",
      "121.140.65.88 - - [23/Aug/2016 07:57:29] \"GET /classify?name=%EB%94%94%EC%98%B5%ED%85%8D%20Snake%20HDMI%20to%20DVI%20%EB%B3%80%ED%99%98%EC%BC%80%EC%9D%B4%EB%B8%94%201.5M&img=http://shopping.phinf.naver.net/main_8279960/8279960324.jpg HTTP/1.1\" 200 79\n",
      "121.140.65.88 - - [23/Aug/2016 07:57:29] \"GET /classify?name=%EC%9D%B4%EC%8A%A4%ED%80%98%EC%96%B4%20Duafire%20Duafire%20DuaFire%20Nunchuk%20/%20Nunchuck%20Controller%20for%20Wii%20100%%EC%A0%95%ED%92%88%20%EA%B4%80%EB%B6%80%EA%B0%80%EC%84%B8%ED%8F%AC%ED%95%A8&img=http://shopping.phinf.naver.net/main_8263146/8263146006.jpg HTTP/1.1\" 200 124\n",
      "121.140.65.88 - - [23/Aug/2016 07:57:29] \"GET /classify?name=(PS2)%20MLB%2011%20%EB%8D%94%EC%87%BC%20THE%20SHOW%2011%20%EA%B7%B9%EC%B0%AC%EC%9D%98%20%EC%95%BC%EA%B5%AC%EA%B2%8C%EC%9E%84&img=http://shopping.phinf.naver.net/main_8026300/8026300380.jpg HTTP/1.1\" 200 112\n",
      "121.140.65.88 - - [23/Aug/2016 07:57:29] \"GET /classify?name=[%EC%9E%90%ED%8C%8C%EB%9E%9C%EB%93%9C]%20PS2%20MLB%2011%20%EB%8D%94%EC%87%BC-%EC%A0%95%EC%8B%9D%EB%B0%9C%EB%A7%A4-/PS2mlb11/mlb11%EB%8D%94%EC%87%BC/PS2%EA%B2%8C%EC%9E%84/PS2MLB11THESHOW/%ED%94%8C%EC%8A%A42/%ED%94%8C%EB%A0%88%EC%9D%B4%EC%8A%A4%ED%85%8C%EC%9D%B4%EC%85%98&img=http://shopping.phinf.naver.net/main_6277697/6277697189.jpg HTTP/1.1\" 200 112\n",
      "121.140.65.88 - - [23/Aug/2016 07:57:29] \"GET /classify?name=%EB%91%90%EA%B0%80%EC%A7%80%EA%B8%B0%EB%8A%A5%EC%9D%84%20%ED%95%98%EB%82%98%EB%A1%9C%202%20in1%20%EC%98%88%EC%8A%A4%EB%B7%B0%ED%8B%B0%20YB-330%20%EC%95%84%EC%9D%B4%EB%A1%A0%20%ED%8C%90%EB%A7%A4/%ED%97%A4%EC%96%B4%EC%BB%AC%EB%A7%81/%EA%B3%A0%EB%8D%B0%EA%B8%B0/%EB%A7%A4%EC%A7%81%EA%B8%B0/%ED%97%A4%EC%96%B4%EB%A1%A4/%EC%95%84%EC%9D%B4%EB%A1%B1&img=http://shopping.phinf.naver.net/main_6766569/6766569744.1.jpg HTTP/1.1\" 200 93\n",
      "121.140.65.88 - - [23/Aug/2016 07:57:29] \"GET /classify?name=[%EC%98%88%EC%8A%A4%EB%B7%B0%ED%8B%B0]%20%EB%A7%A4%EC%A7%81%20%EC%BB%AC%EB%A7%81%20%ED%97%A4%EC%96%B4%20%EC%95%84%EC%9D%B4%EB%A1%B1%20YB-386%20%EA%B3%A0%EB%8D%B0%EA%B8%B0%20%EB%A7%A4%EC%A7%81%EA%B8%B0%20%EB%AF%B8%EC%9A%A9%EA%B0%80%EC%A0%84%20%EB%93%9C%EB%9D%BC%EC%9D%B4%EA%B8%B0&img=http://shopping.phinf.naver.net/main_7404406/7404406692.jpg HTTP/1.1\" 200 93\n"
     ]
    },
    {
     "name": "stdout",
     "output_type": "stream",
     "text": [
      " SEVERIN 독일 세버린 인덕션 밀크프로더 SM9684 110년 전통 독일소형 가전제품 SEVERIN 독일 세버린 인덕션 밀크 프로 더 SM 9684 110 년 전통 독일 소형 가전제품\n",
      " 4 즉시할인쿠폰 군화 단체용 골프장 교회 회사 공장 학교 기숙사 단체 신발소독기 신발소독건조살균 12켤레 전투화건조용 4 즉시 할인 쿠폰 군화 단체 용 골프장 교회 회사 공장 학교 기숙사 단체 신발 소독기 신발 소독 건조 살균 12 켤레 전투 화 건조 용\n",
      " 4 즉시할인쿠폰   정품 공장직영 씨원 안전화 살균건조기 SDB 2406 24켤레용 살균탈취 열풍건조 신발살균건조기 AS보장 4 즉시 할인 쿠폰 정품 공장 직영 씨 원 안전 화 살균 건조기 SDB 2406 24 켤레 용 살균 탈취 열풍 건조 신발 살균 건조기 AS 보장\n",
      "디옵텍 Snake HDMI to DVI 변환케이블 1 5M 디옵 텍 Snake HDMI to DVI 변환 케이블 1 5 M\n",
      "이스퀘어 Duafire Duafire DuaFire Nunchuk   Nunchuck Controller for Wii 100 정품 관부가세포함 이 스퀘어 Duafire Duafire DuaFire Nunchuk Nunchuck Controller for Wii 100 정품 관부 가 세포 함\n",
      " PS2  MLB 11 더쇼 THE SHOW 11 극찬의 야구게임 PS 2 MLB 11 더 쇼 THE SHOW 11 극찬 의 야구 게임\n",
      " 자파랜드  PS2 MLB 11 더쇼 정식발매  PS2mlb11 mlb11더쇼 PS2게임 PS2MLB11THESHOW 플스2 플레이스테이션 자 파랜드 PS 2 MLB 11 더 쇼 정식 발매 PS 2 mlb 11 mlb 11 더 쇼 PS 2 게임 PS 2 MLB 11 THESHOW 플 스 2 플레이 스테이션\n",
      "두가지기능을 하나로 2 in1 예스뷰티 YB 330 아이론 판매 헤어컬링 고데기 매직기 헤어롤 아이롱 두 가지 기능 을 하나 로 2 in 1 예스 뷰티 YB 330 아이 론 판매 헤어 컬링 고 데기 매직 기 헤어 롤 아이 롱\n",
      " 예스뷰티  매직 컬링 헤어 아이롱 YB 386 고데기 매직기 미용가전 드라이기 예스 뷰티 매직 컬링 헤어 아이 롱 YB 386 고데 기 매직 기 미용 가전 드라이 기\n",
      " 해외  SAMSUNG GALAXY S5 SM G900H 16GB OEM CHARCOAL BLACK  FACTORY UNLOCKED  해외 SAMSUNG GALAXY S 5 SM G 900 H 16 GB OEM CHARCOAL BLACK FACTORY UNLOCKED\n"
     ]
    },
    {
     "name": "stderr",
     "output_type": "stream",
     "text": [
      "121.140.65.88 - - [23/Aug/2016 07:57:29] \"GET /classify?name=[%ED%95%B4%EC%99%B8]%20SAMSUNG%20GALAXY%20S5%20SM-G900H%2016GB%20OEM%20CHARCOAL%20BLACK%20(FACTORY%20UNLOCKED)&img=http://shopping.phinf.naver.net/main_8238708/8238708646.jpg HTTP/1.1\" 200 100\n",
      "121.140.65.88 - - [23/Aug/2016 07:57:29] \"GET /classify?name=[%ED%95%B4%EC%99%B8]%20Samsung%20Samsung%20Galaxy%20S5%20Mini%20G800H%2016GB%20HSPA+%20Unlocked%20GSM%20Quad-Core%20Smartphone%20(Copper%20Gold)&img=http://shopping.phinf.naver.net/main_8259551/8259551088.jpg HTTP/1.1\" 200 100\n",
      "121.140.65.88 - - [23/Aug/2016 07:57:29] \"GET /classify?name=%EC%83%A4%ED%94%84%20KC-940K-W&img=http://shopping.phinf.naver.net/main_7534088/7534088195.20140305101712.jpg HTTP/1.1\" 200 72\n",
      "121.140.65.88 - - [23/Aug/2016 07:57:29] \"GET /classify?name=%EB%94%94%EC%97%90%EC%8A%A4%EC%BC%80%EC%9D%B4%20DLF-01A&img=http://shopping.phinf.naver.net/main_6964459/6964459400.20130620124914.jpg HTTP/1.1\" 200 86\n",
      "121.140.65.88 - - [23/Aug/2016 07:57:29] \"GET /classify?name=%EC%9D%B8%ED%85%94%EB%A6%AC%20piggy%20CD%EC%BC%80%EC%9D%B4%EC%8A%A4&img=http://shopping.phinf.naver.net/main_5422971/5422971947.20120211195939.jpg HTTP/1.1\" 200 93\n",
      "121.140.65.88 - - [23/Aug/2016 07:57:29] \"GET /classify?name=LG%EC%A0%84%EC%9E%90%20DVD-R%2016%EB%B0%B0%EC%86%8D%204.7GB%20%ED%94%84%EB%A6%B0%ED%84%B0%EB%B8%94&img=http://shopping.phinf.naver.net/main_4114654/4114654962.20120211202653.jpg HTTP/1.1\" 200 93\n",
      "121.140.65.88 - - [23/Aug/2016 07:57:29] \"GET /classify?name=ipTIME%20V1024%20%EC%9C%A0%EC%84%A0%EA%B3%B5%EC%9C%A0%EA%B8%B0%20(24%ED%8F%AC%ED%8A%B8/2%EA%B8%B0%EA%B0%80%ED%8F%AC%ED%8A%B8/32Mb%EB%A9%94%EB%AA%A8%EB%A6%AC%EC%A7%80%EC%9B%90/%EC%BC%80%EC%9D%B4%EB%B8%94%20%EC%9E%90%EB%8F%99%EA%B0%90%EC%A7%80)%20[W070967]&img=http://shopping.phinf.naver.net/main_8273688/8273688331.jpg HTTP/1.1\" 200 99\n",
      "121.140.65.88 - - [23/Aug/2016 07:57:29] \"GET /classify?name=ipTIME%20Q604%20%EC%9C%A0%EC%84%A0%EA%B3%B5%EC%9C%A0%EA%B8%B0%20(4%ED%8F%AC%ED%8A%B8/1WAN/100Mbps/16MB%20%EB%A9%94%EB%AA%A8%EB%A6%AC%EC%A7%80%EC%9B%90/%EC%BC%80%EC%9D%B4%EB%B8%94/%EC%9E%90%EB%8F%99%EA%B0%90%EC%A7%80)%20[W070963]&img=http://shopping.phinf.naver.net/main_8276837/8276837326.jpg HTTP/1.1\" 200 99\n",
      "121.140.65.88 - - [23/Aug/2016 07:57:29] \"GET /classify?name=[%EC%A0%95%ED%92%88]%20%EB%A1%B1%ED%8E%91%201.25%EC%9D%B8%EC%B9%98%20%EC%B2%9C%EC%A0%95%EB%AF%B8%EB%9F%AC%20[XP-G]%20%20%20%EC%B2%9C%EC%B2%B4%EB%A7%9D%EC%9B%90%EA%B2%BD%20%ED%94%84%EB%A6%AC%EC%A6%98%20%EB%A0%88%EC%A0%B8%20%EC%B7%A8%EB%AF%B8&img=http://shopping.phinf.naver.net/main_8229515/8229515025.jpg HTTP/1.1\" 200 130\n",
      "121.140.65.88 - - [23/Aug/2016 07:57:29] \"GET /classify?name=[%EC%A0%95%ED%92%88]%20%EB%A1%B1%ED%8E%91%201.25%EC%9D%B8%EC%B9%98%20%EC%B2%9C%EC%A0%95%EB%AF%B8%EB%9F%AC%20[XP-G%20II]%20%20%20%EC%B2%9C%EC%B2%B4%EB%A7%9D%EC%9B%90%EA%B2%BD%20%ED%94%84%EB%A6%AC%EC%A6%98%20%EB%A0%88%EC%A0%B8%20%EC%B7%A8%EB%AF%B8&img=http://shopping.phinf.naver.net/main_8229543/8229543373.jpg HTTP/1.1\" 200 130\n",
      "121.140.65.88 - - [23/Aug/2016 07:57:29] \"GET /classify?name=%ED%95%84%EB%A6%BD%EC%8A%A4%20HX6005/21&img=http://shopping.phinf.naver.net/main_7593364/7593364624.20140331110933.jpg HTTP/1.1\" 200 99\n"
     ]
    },
    {
     "name": "stdout",
     "output_type": "stream",
     "text": [
      " 해외  Samsung Samsung Galaxy S5 Mini G800H 16GB HSPA  Unlocked GSM Quad Core Smartphone  Copper Gold  해외 Samsung Samsung Galaxy S 5 Mini G 800 H 16 GB HSPA Unlocked GSM Quad Core Smartphone Copper Gold\n",
      "샤프 KC 940K W 샤프 KC 940 K W\n",
      "디에스케이 DLF 01A 디 에스 케이 DLF 01 A\n",
      "인텔리 piggy CD케이스 인텔리 piggy CD 케이스\n",
      "LG전자 DVD R 16배속 4 7GB 프린터블 LG 전자 DVD R 16 배속 4 7 GB 프린터 블\n",
      "ipTIME V1024 유선공유기  24포트 2기가포트 32Mb메모리지원 케이블 자동감지   W070967  ipTIME V 1024 유선 공 유기 24 포트 2 기 가 포트 32 Mb 메모리 지원 케이블 자동 감지 W 070967\n",
      "ipTIME Q604 유선공유기  4포트 1WAN 100Mbps 16MB 메모리지원 케이블 자동감지   W070963  ipTIME Q 604 유선 공 유기 4 포트 1 WAN 100 Mbps 16 MB 메모리 지원 케이블 자동 감지 W 070963\n",
      " 정품  롱펑 1 25인치 천정미러  XP G    천체망원경 프리즘 레져 취미 정품 롱 펑 1 25 인치 천정 미러 XP G 천체 망원경 프리즘 레져 취미\n",
      " 정품  롱펑 1 25인치 천정미러  XP G II    천체망원경 프리즘 레져 취미 정품 롱 펑 1 25 인치 천정 미러 XP G II 천체 망원경 프리즘 레져 취미\n",
      "필립스 HX6005 21 필립스 HX 6005 21\n",
      "필립스 소닉케어 HX 9332 필립스 소닉 케어 HX 9332\n"
     ]
    },
    {
     "name": "stderr",
     "output_type": "stream",
     "text": [
      "121.140.65.88 - - [23/Aug/2016 07:57:29] \"GET /classify?name=%ED%95%84%EB%A6%BD%EC%8A%A4%20%EC%86%8C%EB%8B%89%EC%BC%80%EC%96%B4%20HX-9332&img=http://shopping.phinf.naver.net/main_6206217/6206217867.20130416171548.jpg HTTP/1.1\" 200 99\n",
      "121.140.65.88 - - [23/Aug/2016 07:57:30] \"GET /classify?name=%EC%96%B4%EB%8F%84%EB%B9%84%20Flash%20CS5.5%20Professional&img=http://shopping.phinf.naver.net/main_7415234/7415234092.20140117151833.jpg HTTP/1.1\" 200 124\n",
      "121.140.65.88 - - [23/Aug/2016 07:57:30] \"GET /classify?name=[%ED%95%B4%EC%99%B8][%ED%95%B4%EC%99%B8]ESE%20ES-188%20NTP%20Referenced%20Master%20Clock/Time%20Code%20Generator&img=http://shopping.phinf.naver.net/main_7894746/7894746903.jpg HTTP/1.1\" 200 118\n",
      "121.140.65.88 - - [23/Aug/2016 07:57:30] \"GET /classify?name=[4%%EC%A6%89%EC%8B%9C%ED%95%A0%EC%9D%B8%EC%BF%A0%ED%8F%B0]%20MSI%20%20%EB%9D%BC%EB%8D%B0%EC%98%A8%20R9%20270%20D5%202GB%20%ED%8A%B8%EC%9C%88%20%ED%94%84%EB%A1%9C%EC%A0%B8%204%20%EA%B2%8C%EC%9D%B4%EB%B0%8D%20%EB%8C%80&img=http://shopping.phinf.naver.net/main_8283963/8283963169.jpg HTTP/1.1\" 200 89\n",
      "121.140.65.88 - - [23/Aug/2016 07:57:30] \"GET /classify?name=%EB%A6%AC%EB%93%9C%ED%85%8D%20%20%EC%BF%BC%EB%93%9C%EB%A1%9C%20K4000%20D5%203GB%20ABKO&img=http://shopping.phinf.naver.net/main_8283708/8283708350.jpg HTTP/1.1\" 200 89\n",
      "121.140.65.88 - - [23/Aug/2016 07:57:30] \"GET /classify?name=[%ED%95%B4%EC%99%B8]Verbatim%2097395%20External%20Drives%20-%20USB%203.0%20Store%20n%20Go%20Portable%20Hard%20Drive%201%20TB&img=http://shopping.phinf.naver.net/main_8327865/8327865744.jpg HTTP/1.1\" 200 105\n",
      "121.140.65.88 - - [23/Aug/2016 07:57:30] \"GET /classify?name=Epson%20LX-Tape%20SMP12B&img=http://shopping.phinf.naver.net/main_7928981/7928981235.jpg HTTP/1.1\" 200 107\n",
      "121.140.65.88 - - [23/Aug/2016 07:57:30] \"GET /classify?name=NETmate%20DisplayPort%20to%20HDMI%20%EC%BC%80%EC%9D%B4%EB%B8%94%201.8m_DC-H4_Black%201.8M&img=http://shopping.phinf.naver.net/main_8264894/8264894769.jpg HTTP/1.1\" 200 79\n",
      "121.140.65.88 - - [23/Aug/2016 07:57:30] \"GET /classify?name=NETmate%20USB3.0%20%ED%97%88%EB%B8%8C%20+%20%EA%B8%B0%EA%B0%80%EB%B9%84%ED%8A%B8%20%EB%9E%9C%EC%B9%B4%EB%93%9C%20[PCD0919]&img=http://shopping.phinf.naver.net/main_8332756/8332756438.jpg HTTP/1.1\" 200 129\n",
      "121.140.65.88 - - [23/Aug/2016 07:57:30] \"GET /classify?name=[%ED%9B%84%EC%B6%94%ED%86%B5(%ED%82%A4%EB%8D%9C%ED%8A%B8,%EC%B7%A8%EB%AF%B8)]%20%ED%94%84%EB%A6%AC%EB%AF%B8%EC%97%84%20%ED%81%B4%EB%9E%99%EC%8B%9D%20%EB%9F%B0%EB%8D%98%20%ED%95%B8%EB%93%9C%EB%B0%B1%EC%BC%80%EC%9D%B4%EC%8A%A4(%EC%95%84%EC%9D%B4%ED%8F%B05S/5)%20_P013917213&img=http://shopping.phinf.naver.net/main_7474699/7474699057.jpg HTTP/1.1\" 200 141\n"
     ]
    },
    {
     "name": "stdout",
     "output_type": "stream",
     "text": [
      "어도비 Flash CS5 5 Professional 어도비 Flash CS 5 5 Professional\n",
      " 해외  해외 ESE ES 188 NTP Referenced Master Clock Time Code Generator 해외 해외 ESE ES 188 NTP Referenced Master Clock Time Code Generator\n",
      " 4 즉시할인쿠폰  MSI  라데온 R9 270 D5 2GB 트윈 프로져 4 게이밍 대 4 즉시 할인 쿠폰 MSI 라데온 R 9 270 D 5 2 GB 트윈 프로 져 4 게이밍 대\n",
      "리드텍  쿼드로 K4000 D5 3GB ABKO 리드 텍 쿼드 로 K 4000 D 5 3 GB ABKO\n",
      " 해외 Verbatim 97395 External Drives   USB 3 0 Store n Go Portable Hard Drive 1 TB 해외 Verbatim 97395 External Drives USB 3 0 Store n Go Portable Hard Drive 1 TB\n",
      "Epson LX Tape SMP12B Epson LX Tape SMP 12 B\n",
      "NETmate DisplayPort to HDMI 케이블 1 8m DC H4 Black 1 8M NETmate DisplayPort to HDMI 케이블 1 8 m DC H 4 Black 1 8 M\n",
      "NETmate USB3 0 허브   기가비트 랜카드  PCD0919  NETmate USB 3 0 허브 기 가 비트 랜 카드 PCD 0919\n",
      " 후추통 키덜트 취미   프리미엄 클랙식 런던 핸드백케이스 아이폰5S 5   P013917213 후추 통 키덜트 취미 프리미엄 클랙 식 런던 핸드백 케이스 아이폰 5 S 5 P 013917213\n",
      " NETGEAR  넷기어 PTVU1000 NETGEAR 무선영상전송장치 Full HD TV 1080p WiDi 데스크탑 노트북  HDMI to DVI PC화면을 무선으로 대형화면으 NETGEAR 넷 기어 PTVU 1000 NETGEAR 무선 영상 전송 장치 Full HD TV 1080 p WiDi 데스크 탑 노트북 HDMI to DVI PC 화면 을 무선 으로 대형 화면 으\n"
     ]
    },
    {
     "name": "stderr",
     "output_type": "stream",
     "text": [
      "121.140.65.88 - - [23/Aug/2016 07:57:30] \"GET /classify?name=[NETGEAR]%20%EB%84%B7%EA%B8%B0%EC%96%B4%20PTVU1000%20NETGEAR%20%EB%AC%B4%EC%84%A0%EC%98%81%EC%83%81%EC%A0%84%EC%86%A1%EC%9E%A5%EC%B9%98%20Full%20HD%20TV%201080p%20WiDi%20%EB%8D%B0%EC%8A%A4%ED%81%AC%ED%83%91/%EB%85%B8%ED%8A%B8%EB%B6%81%20(HDMI%20to%20DVI)PC%ED%99%94%EB%A9%B4%EC%9D%84%20%EB%AC%B4%EC%84%A0%EC%9C%BC%EB%A1%9C%20%EB%8C%80%ED%98%95%ED%99%94%EB%A9%B4%EC%9C%BC&img=http://shopping.phinf.naver.net/main_7412835/7412835850.jpg HTTP/1.1\" 200 115\n",
      "121.140.65.88 - - [23/Aug/2016 07:57:30] \"GET /classify?name=NETmate%202%EB%8B%A8%20%EA%B4%80%EC%A0%88%ED%98%95%20%EB%AA%A8%EB%8B%88%ED%84%B0%20%EA%B1%B0%EC%B9%98%EB%8C%80%20NMA-LM10&img=http://shopping.phinf.naver.net/main_7419150/7419150214.jpg HTTP/1.1\" 200 141\n",
      "121.140.65.88 - - [23/Aug/2016 07:57:30] \"GET /classify?name=[NMA-LM10]%20NETmate%202%EB%8B%A8%20%EA%B4%80%EC%A0%88%ED%98%95%20%EB%AA%A8%EB%8B%88%ED%84%B0%20%EA%B1%B0%EC%B9%98%EB%8C%80%20[%EB%AA%A8%EB%8B%88%ED%84%B0%EA%B1%B0%EC%B9%98%EB%8C%80/%EB%AA%A8%EB%8B%88%ED%84%B0%EC%95%94/LCD%EB%AA%A8%EB%8B%88%ED%84%B0%EA%B1%B0%EC%B9%98%EB%8C%80/%EB%B2%BD%EA%B1%B8%EC%9D%B4%EB%AA%A8%EB%8B%88%ED%84%B0/%EB%AA%A8%EB%8B%88%ED%84%B0%EA%B1%B8%EC%9D%B4/LCD%20TV/%EC%B1%85%EC%83%81%ED%98%95%EA%B1%B0%EC%B9%98%EB%8C%80]&img=http://shopping.phinf.naver.net/main_6905372/6905372876.jpg HTTP/1.1\" 200 141\n",
      "121.140.65.88 - - [23/Aug/2016 07:57:30] \"GET /classify?name=[%EC%84%9C%EC%A4%80]24%EC%8B%9C%EA%B0%84%20%EC%9D%BC%EC%A3%BC%EC%9D%BC%20%EA%B2%B8%EC%9A%A9%20%EB%94%94%EC%A7%80%ED%83%88%20%ED%83%80%EC%9E%84%20%EC%8A%A4%EC%9C%84%EC%B9%98%20SJD-C16(%EC%BD%98%EC%84%BC%ED%8A%B8%ED%98%95)&img=http://shopping.phinf.naver.net/main_8281651/8281651436.jpg HTTP/1.1\" 200 117\n",
      "121.140.65.88 - - [23/Aug/2016 07:57:30] \"GET /classify?name=%EB%B0%A9%EC%88%98%EC%A0%9C%EB%AA%A8%EA%B8%B0%20FET-300%20(%EC%A0%9C%EB%AA%A8%EB%A9%B4%EB%8F%84%EA%B8%B0)%20[W142937]&img=http://shopping.phinf.naver.net/main_8273795/8273795892.jpg HTTP/1.1\" 200 117\n",
      "121.140.65.88 - - [23/Aug/2016 07:57:30] \"GET /classify?name=A%EC%84%B8%EC%9D%BC-%20%EC%82%BC%EC%84%B1%20%EC%99%B8%EC%9E%A5%ED%95%98%EB%93%9C%20P3%20Portable(2.5)%202TB&img=http://shopping.phinf.naver.net/main_8263401/8263401077.jpg HTTP/1.1\" 200 105\n",
      "121.140.65.88 - - [23/Aug/2016 07:57:30] \"GET /classify?name=[%ED%95%B4%EC%99%B8][%ED%95%B4%EC%99%B8]%20%20%20%20%20%20%20%20%20%20%20%20%20%20%20%20%20%20%20%20%20%20%20%20%20%20%20%20%20%20Komputerbay%20SD,%20SDHC,%20SDXC,%20MMC%20%EB%B0%8F%20MicroSD,%20MicroSDHC,%20MicroSDXC%20%EB%A9%94%EB%AA%A8&img=http://shopping.phinf.naver.net/main_8271533/8271533224.jpg HTTP/1.1\" 200 105\n",
      "121.140.65.88 - - [23/Aug/2016 07:57:30] \"GET /classify?name=%EB%8C%80%EC%9B%85%20%EC%A0%84%EA%B8%B0%20%EB%A0%88%EC%9D%B8%EC%A7%80(MD210A)&img=http://shopping.phinf.naver.net/main_8283677/8283677954.jpg HTTP/1.1\" 200 105\n",
      "121.140.65.88 - - [23/Aug/2016 07:57:30] \"GET /classify?name=%EC%9C%A0%EB%8B%88%EB%A7%A5%EC%8A%A4%EB%B0%94%EB%B2%A0%ED%81%90%EB%AF%B8%EB%8B%88%EC%A0%84%EA%B8%B0%EC%98%A4%EB%B8%90UMO-1809%20(18L)/%EC%A0%9C%EB%B9%B5%EC%98%A4%EB%B8%90%EA%B8%B0/%EC%A0%9C%EA%B3%BC%EC%98%A4%EB%B8%90%EA%B8%B0/%EB%B9%B5%EB%A7%8C%EB%93%A4%EA%B8%B0/%EC%A0%84%EA%B8%B0%EC%98%A4%EB%B8%90/&img=http://shopping.phinf.naver.net/main_8229143/8229143262.jpg HTTP/1.1\" 200 105\n",
      "121.140.65.88 - - [23/Aug/2016 07:57:30] \"GET /classify?name=[%ED%95%84%EA%B3%A8%EB%93%9C]%202~3%20%20SLA102nA115%20%20%EB%82%A8%EC%84%B1%20%EA%B0%80%EB%94%94%EA%B1%B49%EC%A2%85%EC%A4%91%ED%83%9D%EC%9D%BC&img=http://shopping.phinf.naver.net/main_7915720/7915720022.jpg HTTP/1.1\" 200 80\n"
     ]
    },
    {
     "name": "stdout",
     "output_type": "stream",
     "text": [
      "NETmate 2단 관절형 모니터 거치대 NMA LM10 NETmate 2 단 관절 형 모니터 거치대 NMA LM 10\n",
      " NMA LM10  NETmate 2단 관절형 모니터 거치대  모니터거치대 모니터암 LCD모니터거치대 벽걸이모니터 모니터걸이 LCD TV 책상형거치대  NMA LM 10 NETmate 2 단 관절 형 모니터 거치대 모니터 거치대 모니터 암 LCD 모니터 거치대 벽걸이 모니터 모니터 걸이 LCD TV 책상 형 거치대\n",
      " 서준 24시간 일주일 겸용 디지탈 타임 스위치 SJD C16 콘센트형  서준 24 시간 일 주일 겸용 디지탈 타임 스위치 SJD C 16 콘센트 형\n",
      "방수제모기 FET 300  제모면도기   W142937  방수제 모기 FET 300 제모 면도기 W 142937\n",
      "A세일  삼성 외장하드 P3 Portable 2 5  2TB A 세일 삼성 외장 하드 P 3 Portable 2 5 2 TB\n",
      " 해외  해외                               Komputerbay SD  SDHC  SDXC  MMC 및 MicroSD  MicroSDHC  MicroSDXC 메모 해외 해외 Komputerbay SD SDHC SDXC MMC 및 MicroSD MicroSDHC MicroSDXC 메모\n",
      "대웅 전기 레인지 MD210A  대웅 전기 레인지 MD 210 A\n",
      "유니맥스바베큐미니전기오븐UMO 1809  18L  제빵오븐기 제과오븐기 빵만들기 전기오븐  유니 맥스 바베큐 미니 전기 오븐 UMO 1809 18 L 제빵 오븐 기 제과 오븐 기 빵 만들 기 전기 오븐\n",
      " 필골드  2 3  SLA102nA115  남성 가디건9종중택일 필 골드 2 3 SLA 102 nA 115 남성 가디건 9 종중 택일\n",
      " 하프클럽 GGIO II 내츄럴 방모 자켓형 가디건 AXIW47511NA 하프 클럽 GGIO II 내츄럴 방모 자켓 형 가디건 AXIW 47511 NA\n"
     ]
    },
    {
     "name": "stderr",
     "output_type": "stream",
     "text": [
      "121.140.65.88 - - [23/Aug/2016 07:57:30] \"GET /classify?name=[%ED%95%98%ED%94%84%ED%81%B4%EB%9F%BD/GGIO%20II]%EB%82%B4%EC%B8%84%EB%9F%B4%20%EB%B0%A9%EB%AA%A8%20%EC%9E%90%EC%BC%93%ED%98%95%20%EA%B0%80%EB%94%94%EA%B1%B4_AXIW47511NA&img=http://shopping.phinf.naver.net/main_8015818/8015818901.jpg HTTP/1.1\" 200 80\n",
      "121.140.65.88 - - [23/Aug/2016 07:57:30] \"GET /classify?name=%EC%84%9C%EC%9A%B8%EC%9B%90%EB%B3%B5%20%EC%9B%90%EB%B3%B5(1007-1)LG2015-%EB%82%A8%EC%95%84%EC%9A%A9%EC%84%B8%ED%8A%B8&img=http://shopping.phinf.naver.net/main_8313965/8313965017.jpg HTTP/1.1\" 200 74\n",
      "121.140.65.88 - - [23/Aug/2016 07:57:30] \"GET /classify?name=%EC%84%9C%EC%9A%B8%EC%9B%90%EB%B3%B5%20%EC%9B%90%EB%B3%B5(1004)LG2015-%EB%82%A8%EC%95%84%EC%9A%A9%EC%84%B8%ED%8A%B8&img=http://shopping.phinf.naver.net/main_8313963/8313963759.jpg HTTP/1.1\" 200 74\n",
      "121.140.65.88 - - [23/Aug/2016 07:57:30] \"GET /classify?name=[BC%EC%B9%B4%EB%93%9C5%%ED%95%A0%EC%9D%B8]%EB%B3%B4%EB%8B%8C%20%EC%BD%94%ED%8A%BC%20%EB%82%98%EA%B7%B8%EB%9E%91%20%EB%A1%A4%EB%84%A5%20%EB%B8%8C%EC%9D%B4%EB%84%A5%20%EB%8B%88%ED%8A%B8%20%EB%B8%94%EB%9E%99%20YHVC1044BK5&img=http://shopping.phinf.naver.net/main_7119686/7119686249.15.jpg HTTP/1.1\" 200 93\n",
      "121.140.65.88 - - [23/Aug/2016 07:57:30] \"GET /classify?name=[BC%EC%B9%B4%EB%93%9C5%%ED%95%A0%EC%9D%B8][%ED%95%B4%EC%99%B8%EB%B0%B0%EC%86%A1]%20%EC%95%84%EB%B2%A0%ED%81%AC%EB%A1%AC%EB%B9%84%ED%82%A4%EC%A6%88%20kids%20supersoft%20textured%20cardigan%20navy&img=http://shopping.phinf.naver.net/main_8290844/8290844280.jpg HTTP/1.1\" 200 80\n",
      "121.140.65.88 - - [23/Aug/2016 07:57:30] \"GET /classify?name=[BC%EC%B9%B4%EB%93%9C5%%ED%95%A0%EC%9D%B8][%EB%AA%BD%ED%81%B4%EB%A0%88%EC%96%B4]%EA%B0%90%EB%A7%88%EB%B8%94%EB%A3%A8%20%EB%A1%9C%EA%B3%A0%20%ED%8C%A8%EC%B9%98%20%EB%9D%BC%EC%9D%B4%EB%8B%9D%20%ED%95%98%ED%94%84%20%EC%A7%91%EC%97%85%20PK%20%EC%85%94%EC%B8%A0%20%EA%B7%B8%EB%A0%88%EC%9D%B4%2083111%2080%2082874%20981&img=http://shopping.phinf.naver.net/main_8296173/8296173212.jpg HTTP/1.1\" 200 74\n",
      "121.140.65.88 - - [23/Aug/2016 07:57:30] \"GET /classify?name=[%EB%B8%94%EB%9E%99%EC%95%BC%ED%81%AC%ED%82%A4%EC%A6%88]2014%EB%85%84%20F/W%20%EB%B3%B4%EC%95%84%20%ED%94%8C%EB%A6%AC%EC%8A%A4%20%EC%86%8C%EC%9E%AC%20%EB%8F%99%EC%A0%88%EC%9A%A9%20%EC%9D%B5%EC%8A%A4%ED%8A%B8%EB%A6%BC%20%ED%95%98%ED%94%84%ED%8C%AC%EC%B8%A0%20[BK4XM15%ED%8C%AC%EC%B8%A0]&img=http://shopping.phinf.naver.net/main_8016438/8016438949.1.jpg HTTP/1.1\" 200 80\n",
      "121.140.65.88 - - [23/Aug/2016 07:57:30] \"GET /classify?name=[%EC%8B%A0%ED%95%9C%EC%B9%B4%EB%93%9C5%][%EC%8A%A4%EC%BD%9C%ED%94%BC%EC%98%A4(SCORPIO)][SCORPIO]%EC%86%8D%EA%B1%B4/%EC%BE%8C%EC%A0%81%EB%82%A8%EC%84%B1%EC%9A%A9%EC%8A%A4%ED%8F%AC%EC%B8%A0%EB%9F%B0%EB%8B%9D6%EB%A7%A4%EC%9E%85[SCR2263]=3%EB%A7%A4%EC%9E%852%EC%83%81%EC%9E%90&img=http://shopping.phinf.naver.net/main_7882569/7882569277.1.jpg HTTP/1.1\" 200 123\n",
      "121.140.65.88 - - [23/Aug/2016 07:57:30] \"GET /classify?name=[AK%EB%AA%B0/%ED%8A%B8%EB%9D%BC%EC%9D%B4]%20%20[3784]%20[%ED%8A%B8%EB%9D%BC%EC%9D%B4]%EC%8B%A0%EC%82%AC-%EB%94%94%EB%9F%AD%EC%8A%A4%20T%EC%85%94%EC%B8%A0%20%EB%B0%B1%EC%83%89G%20%EA%B3%A0%ED%80%84%EB%A6%AC%ED%8B%B0%20%EB%B0%98%ED%8C%94%EB%9F%B0%EB%8B%9D/%EC%88%9C%EB%A9%B4100%/%EB%A9%B4%EB%9F%B0%EB%8B%9D/%EA%B8%B0%EB%B3%B8%EB%9F%B0%EB%8B%9D/%EB%B0%98%ED%8C%94%EB%9F%B0%EB%8B%9D&img=http://shopping.phinf.naver.net/main_7062279/7062279949.1.jpg HTTP/1.1\" 200 99\n",
      "121.140.65.88 - - [23/Aug/2016 07:57:30] \"GET /classify?name=[BYC]%20%EB%8D%B0%EC%98%A4%EB%8B%88%EC%95%84%20%EC%97%AC%EC%84%B1%20%EB%9F%B0%EB%8B%9D%201%EC%A2%85%20BYT3256&img=http://shopping.phinf.naver.net/main_8276623/8276623042.jpg HTTP/1.1\" 200 118\n",
      "121.140.65.88 - - [23/Aug/2016 07:57:30] \"GET /classify?name=[BYC]%20%EC%8B%AC%ED%94%8C%20%EC%9C%A0%EC%83%89%20%EC%97%AC%EC%84%B1%20%EB%9F%B0%EB%8B%9D%205%EC%A2%85%20%EC%84%B8%ED%8A%B8%20BYT3413&img=http://shopping.phinf.naver.net/main_8273268/8273268937.jpg HTTP/1.1\" 200 118\n"
     ]
    },
    {
     "name": "stdout",
     "output_type": "stream",
     "text": [
      "서울원복 원복 1007 1 LG2015 남아용세트 서울 원복 원복 1007 1 LG 2015 남아 용 세트\n",
      "서울원복 원복 1004 LG2015 남아용세트 서울 원복 원복 1004 LG 2015 남아 용 세트\n",
      " BC카드5 할인 보닌 코튼 나그랑 롤넥 브이넥 니트 블랙 YHVC1044BK5 BC 카드 5 할인 보닌 코튼 나그 랑 롤 넥 브이넥 니트 블랙 YHVC 1044 BK 5\n",
      " BC카드5 할인  해외배송  아베크롬비키즈 kids supersoft textured cardigan navy BC 카드 5 할인 해외 배송 아베크롬비 키즈 kids supersoft textured cardigan navy\n",
      " BC카드5 할인  몽클레어 감마블루 로고 패치 라이닝 하프 집업 PK 셔츠 그레이 83111 80 82874 981 BC 카드 5 할인 몽클 레 어 감마 블 루 로고 패치 라이닝 하프 집 업 PK 셔츠 그레이 83111 80 82874 981\n",
      " 블랙야크키즈 2014년 F W 보아 플리스 소재 동절용 익스트림 하프팬츠  BK4XM15팬츠  블랙 야크 키즈 2014 년 F W 보 아 플리스 소재 동절 용 익스트림 하프 팬츠 BK 4 XM 15 팬츠\n",
      " 신한카드5   스콜피오 SCORPIO   SCORPIO 속건 쾌적남성용스포츠런닝6매입 SCR2263  3매입2상자 신한 카드 5 스콜 피오 SCORPIO SCORPIO 속 건 쾌 적 남성 용 스포츠 런닝 6 매입 SCR 2263 3 매입 2 상자\n",
      " AK몰 트라이    3784   트라이 신사 디럭스 T셔츠 백색G 고퀄리티 반팔런닝 순면100  면런닝 기본런닝 반팔런닝 AK 몰 트라이 3784 트라이 신사 디럭스 T 셔츠 백색 G 고 퀄리티 반팔 런닝 순면 100 면 런닝 기본 런닝 반팔 런닝\n",
      " BYC  데오니아 여성 런닝 1종 BYT3256 BYC 데 오 니아 여성 런닝 1 종 BYT 3256\n",
      " BYC  심플 유색 여성 런닝 5종 세트 BYT3413 BYC 심플 유색 여성 런닝 5 종 세트 BYT 3413\n",
      " TBASE 365일편안한내의남성용폴리스판단색아웃밴드즈로즈6매입 TBMD41143  TBASE 365 일 편안 한 내 의 남성 용 폴리스 판단 색 아웃 밴드 즈 로즈 6 매입 TBMD 41143\n",
      " 레드페이스   메쉬소재 통풍효과  코쿤 M 민소매 런닝   코쿤 M 사각 팬티 2종1세트 레드페이스 메 쉬 소재 통풍 효과 코 쿤 M 민소매 런닝 코 쿤 M 사각 팬티 2 종 1 세트\n"
     ]
    },
    {
     "name": "stderr",
     "output_type": "stream",
     "text": [
      "121.140.65.88 - - [23/Aug/2016 07:57:30] \"GET /classify?name=[TBASE]365%EC%9D%BC%ED%8E%B8%EC%95%88%ED%95%9C%EB%82%B4%EC%9D%98%EB%82%A8%EC%84%B1%EC%9A%A9%ED%8F%B4%EB%A6%AC%EC%8A%A4%ED%8C%90%EB%8B%A8%EC%83%89%EC%95%84%EC%9B%83%EB%B0%B4%EB%93%9C%EC%A6%88%EB%A1%9C%EC%A6%886%EB%A7%A4%EC%9E%85[TBMD41143]&img=http://shopping.phinf.naver.net/main_7856779/7856779722.jpg HTTP/1.1\" 200 123\n",
      "121.140.65.88 - - [23/Aug/2016 07:57:30] \"GET /classify?name=[%EB%A0%88%EB%93%9C%ED%8E%98%EC%9D%B4%EC%8A%A4]%20(%EB%A9%94%EC%89%AC%EC%86%8C%EC%9E%AC%20%ED%86%B5%ED%92%8D%ED%9A%A8%EA%B3%BC)%20%EC%BD%94%EC%BF%A4%20M%20%EB%AF%BC%EC%86%8C%EB%A7%A4%20%EB%9F%B0%EB%8B%9D%20+%20%EC%BD%94%EC%BF%A4%20M%20%EC%82%AC%EA%B0%81%20%ED%8C%AC%ED%8B%B0%202%EC%A2%851%EC%84%B8%ED%8A%B8&img=http://shopping.phinf.naver.net/main_7079132/7079132866.1.jpg HTTP/1.1\" 200 123\n",
      "121.140.65.88 - - [23/Aug/2016 07:57:30] \"GET /classify?name=[%ED%8B%B0%ED%8C%8C%EB%8B%88%EC%8B%9C%EC%8A%A4%ED%84%B0]40%%EC%8B%9C%EC%A6%8C%EC%84%B8%EC%9D%BC%7B%7B2014/%EA%B0%80%EC%9D%84%EC%83%81%ED%92%88%7D%7D%EA%B7%B8%EB%A6%B0%EC%8A%A4%ED%82%A4%EB%8B%88%EB%B0%B4%EB%93%9C%EB%B0%94%EC%A7%80(T44KAP030)&img=http://shopping.phinf.naver.net/main_8001026/8001026342.jpg HTTP/1.1\" 200 80\n",
      "121.140.65.88 - - [23/Aug/2016 07:57:30] \"GET /classify?name=[%ED%8B%B0%ED%8C%8C%EB%8B%88(TIFFANY)]%EB%B8%8C%EB%9D%BC%EC%9A%B4%EA%BD%83%ED%94%84%EB%A6%B0%ED%8A%B8%EB%A0%88%EA%B9%85%EC%8A%A4(T45KAP030-R4)&img=http://shopping.phinf.naver.net/main_8207164/8207164704.1.jpg HTTP/1.1\" 200 80\n",
      "121.140.65.88 - - [23/Aug/2016 07:57:30] \"GET /classify?name=[%ED%8C%AC%EC%BD%A7/%ED%8A%B8%EB%A0%88%EC%9D%B4%EB%8B%9D%ED%8C%AC%EC%B8%A0]%20POPEYES%202TONE%20SETUP%20SKINNY%20TRAINING%20PANTS%20%EC%A0%84%EC%BB%AC%EB%9F%AC%20%ED%83%9D1_PPOHAPT04U&img=http://shopping.phinf.naver.net/main_8303380/8303380713.jpg HTTP/1.1\" 200 86\n",
      "121.140.65.88 - - [23/Aug/2016 07:57:30] \"GET /classify?name=[KB%EA%B5%AD%EB%AF%BC%EC%B9%B4%EB%93%9C%205%%ED%95%A0%EC%9D%B8,%203/14]1300K%20FRESH%20KNIT%20GREEN&img=http://shopping.phinf.naver.net/main_8214567/8214567492.jpg HTTP/1.1\" 200 80\n",
      "121.140.65.88 - - [23/Aug/2016 07:57:30] \"GET /classify?name=LeGEN%20HOMME/%EB%A5%B4%EC%A0%A0%20%ED%95%98%EC%9D%B4%EC%8A%A4%ED%8C%90%20%EC%9D%B4%EC%A4%91%ED%8F%AC%EC%BC%93%20%EC%B9%B4%EA%B3%A0%20%EB%A9%B4%EB%B0%94%EC%A7%80(LNPM017PI)[%EC%8B%9C%EC%A4%91%EA%B0%80:113,600%EC%9B%90,54%%20Sale]&img=http://shopping.phinf.naver.net/main_8081886/8081886398.jpg HTTP/1.1\" 200 117\n",
      "121.140.65.88 - - [23/Aug/2016 07:57:30] \"GET /classify?name=[LeGEN]%20%EB%A5%B4%EC%A0%A0%20%ED%95%98%EC%9D%B4%EC%8A%A4%ED%8C%90%20%EC%9D%B4%EC%A4%91%ED%8F%AC%EC%BC%93%20%EC%B9%B4%EA%B3%A0%20%EB%A9%B4%EB%B0%94%EC%A7%80(LNPM017PI)_P019132638&img=http://shopping.phinf.naver.net/main_8080429/8080429917.1.jpg HTTP/1.1\" 200 74\n",
      "121.140.65.88 - - [23/Aug/2016 07:57:30] \"GET /classify?name=[%EB%B3%B4%EB%A6%AC%EB%B3%B4%EB%A6%AC/%EB%93%9C%EB%A0%88%EC%8A%A4%ED%95%98%EC%9A%B0%EC%8A%A4]%EB%B0%94%EB%B9%84%20%ED%8F%AC%EB%8B%88%ED%85%8C%EC%9D%BC%20%EB%B0%9C%EB%A0%88%EB%B3%B5&img=http://shopping.phinf.naver.net/main_7875529/7875529356.jpg HTTP/1.1\" 200 99\n",
      "121.140.65.88 - - [23/Aug/2016 07:57:30] \"GET /classify?name=[10%%20%EC%A6%89%EC%8B%9C%ED%95%A0%EC%9D%B8][%EC%86%94%EC%A0%9C%EB%8B%88]%205SNR1072%20%EB%81%88%20%EC%B2%B4%ED%81%AC%20%EC%9B%90%ED%94%BC%EC%8A%A4/%20%EC%86%94%EC%A0%9C%EB%8B%88&img=http://shopping.phinf.naver.net/main_8259028/8259028983.jpg HTTP/1.1\" 200 80\n",
      "121.140.65.88 - - [23/Aug/2016 07:57:30] \"GET /classify?name=[%EB%8F%99%EB%82%B4%EC%9D%98]%ED%91%B8%EB%A7%88%EB%82%A8%EC%84%B1%ED%94%8C%EB%9E%98%ED%8B%B0%EB%84%98%ED%9E%88%ED%8A%B8%EC%9B%A8%EC%9D%B4%EB%B8%8C6%EC%A2%85&img=http://image.hnsmall.com/images/goods/496/11215496_g.jpg HTTP/1.1\" 200 111\n"
     ]
    },
    {
     "name": "stdout",
     "output_type": "stream",
     "text": [
      " 티파니시스터 40 시즌세일  2014 가을상품  그린스키니밴드바지 T44KAP030  티파니 시스터 40 시즌 세일 2014 가을 상품 그린 스키니 밴드 바지 T 44 KAP 030\n",
      " 티파니 TIFFANY  브라운꽃프린트레깅스 T45KAP030 R4  티파니 TIFFANY 브라운 꽃 프린트 레깅스 T 45 KAP 030 R 4\n",
      " 팬콧 트레이닝팬츠  POPEYES 2TONE SETUP SKINNY TRAINING PANTS 전컬러 택1 PPOHAPT04U 팬 콧 트레이닝팬츠 POPEYES 2 TONE SETUP SKINNY TRAINING PANTS 전 컬러 택 1 PPOHAPT 04 U\n",
      " KB국민카드 5 할인  3 14 1300K FRESH KNIT GREEN KB 국민카드 5 할인 3 14 1300 K FRESH KNIT GREEN\n",
      "LeGEN HOMME 르젠 하이스판 이중포켓 카고 면바지 LNPM017PI  시중가 113 600원 54  Sale  LeGEN HOMME 르 젠 하이 스판 이중 포켓 카 고 면바지 LNPM 017 PI 시중 가 113 600 원 54 Sale\n",
      " LeGEN  르젠 하이스판 이중포켓 카고 면바지 LNPM017PI  P019132638 LeGEN 르 젠 하이 스판 이중 포켓 카 고 면바지 LNPM 017 PI P 019132638\n",
      " 보리보리 드레스하우스 바비 포니테일 발레복 보리 보리 드레스 하우스 바비 포니테일 발레 복\n",
      " 10  즉시할인  솔제니  5SNR1072 끈 체크 원피스  솔제니 10 즉시 할인 솔 제니 5 SNR 1072 끈 체크 원피스 솔 제니\n",
      " 동내의 푸마남성플래티넘히트웨이브6종 동내 의 푸마 남성 플래티넘 히트 웨이브 6 종\n",
      " 동내의 푸마남성플래티넘히트웨이브6종 동내 의 푸마 남성 플래티넘 히트 웨이브 6 종\n",
      " 11  즉시할인  AK몰 OPEN BUST MID THIGH BODY  2325  11 즉시 할인 AK 몰 OPEN BUST MID THIGH BODY 2325\n"
     ]
    },
    {
     "name": "stderr",
     "output_type": "stream",
     "text": [
      "121.140.65.88 - - [23/Aug/2016 07:57:30] \"GET /classify?name=[%EB%8F%99%EB%82%B4%EC%9D%98]%ED%91%B8%EB%A7%88%EB%82%A8%EC%84%B1%ED%94%8C%EB%9E%98%ED%8B%B0%EB%84%98%ED%9E%88%ED%8A%B8%EC%9B%A8%EC%9D%B4%EB%B8%8C6%EC%A2%85&img=http://image.hnsmall.com/images/goods/496/11215496_g.jpg HTTP/1.1\" 200 111\n",
      "121.140.65.88 - - [23/Aug/2016 07:57:30] \"GET /classify?name=[11%%20%EC%A6%89%EC%8B%9C%ED%95%A0%EC%9D%B8](AK%EB%AA%B0)OPEN-BUST%20MID-THIGH%20BODY%20(2325)&img=http://shopping.phinf.naver.net/main_7971216/7971216339.jpg HTTP/1.1\" 200 116\n",
      "121.140.65.88 - - [23/Aug/2016 07:57:30] \"GET /classify?name=[%EC%82%BC%EC%84%B1%EC%B9%B4%EB%93%9C5%%ED%95%A0%EC%9D%B8~15%EC%9D%BC%EA%B9%8C%EC%A7%80][%EC%8A%A4%ED%8C%BD%EC%8A%A4]%20OPEN-BUST%20%20MID-THIGH%20BODY%20(2325)&img=http://shopping.phinf.naver.net/main_7582194/7582194591.jpg HTTP/1.1\" 200 116\n",
      "121.140.65.88 - - [23/Aug/2016 07:57:30] \"GET /classify?name=[AK%20PLAZA][%EB%B9%84%EB%84%88%EC%8A%A4]%EB%B9%84%EB%84%88%EC%8A%A4%20%EB%B8%8C%EC%9D%B4%20%EC%8A%A4%ED%8F%AC%EC%B8%A0%20%EB%B8%8C%EC%9D%B4%ED%95%8F%20%EB%B8%8C%EB%9E%98%EC%A7%80%EC%96%B4%20vbrs102d&img=http://shopping.phinf.naver.net/main_8174682/8174682791.jpg HTTP/1.1\" 200 99\n",
      "121.140.65.88 - - [23/Aug/2016 07:57:30] \"GET /classify?name=[AK%EB%AA%B0/%EB%B9%84%EB%84%88%EC%8A%A4]%20%20[%EB%B9%84%EB%84%88%EC%8A%A4VBR0740%20%EC%89%98%EC%BF%A8%EB%AA%B0%EB%93%9C%EB%B8%8C%EB%9D%BC(C,D%EC%BB%B5)&img=http://shopping.phinf.naver.net/main_8294949/8294949749.jpg HTTP/1.1\" 200 99\n",
      "121.140.65.88 - - [23/Aug/2016 07:57:30] \"GET /classify?name=[%ED%94%84%EB%A6%B0%EC%84%B8%EC%8A%A4%20%ED%83%90%ED%83%90]%20%EB%A0%88%EC%9D%B4%EC%8A%A4%20%ED%99%91%EA%B2%B9%20%EB%B8%8C%EB%9D%BC%20(PBR074J)&img=http://shopping.phinf.naver.net/main_7948420/7948420556.1.jpg HTTP/1.1\" 200 99\n",
      "121.140.65.88 - - [23/Aug/2016 07:57:30] \"GET /classify?name=[%EB%B0%94%EB%94%94%EC%8A%A4%ED%86%A0%EB%A6%AC]%20%EB%B3%BC%EB%A5%A8%EC%97%85%20%EC%97%AC%EC%84%B1%20B%EC%BB%B5%20%EB%B3%B4%EC%A0%95%20%EB%B8%8C%EB%9D%BC%ED%8C%AC%ED%8B%B0(OWS8578)%20(%EA%B8%B0%EC%A1%B4%EA%B0%80:67500%EC%9B%90)&img=http://shopping.phinf.naver.net/main_7845745/7845745882.1.jpg HTTP/1.1\" 200 123\n",
      "121.140.65.88 - - [23/Aug/2016 07:57:30] \"GET /classify?name=%EB%B2%84%EC%BB%A4%EB%A3%A8%20%EB%82%A8%EC%97%AC%EA%B3%B5%EC%9A%A9%2021%EC%88%98%20%EC%8B%B8%EC%9D%B4%EB%A1%9C%20%ED%8F%AC%EC%BC%93%20%EB%9D%BC%EC%9A%B4%EB%93%9C%EB%84%A5%20%ED%8B%B0%EC%85%94%EC%B8%A0(B135TS030P)&img=http://shopping.phinf.naver.net/main_6786503/6786503477.jpg HTTP/1.1\" 200 86\n",
      "121.140.65.88 - - [23/Aug/2016 07:57:30] \"GET /classify?name=%EC%9E%AD%EC%95%A4%EC%A7%88%20[%EB%A1%AF%EB%8D%B0%EB%B0%B1%ED%99%94%EC%A0%90]%EB%82%A8%EC%84%B1%20%EC%B9%B4%EB%AA%A8%EC%A0%84%ED%8C%90%20%ED%94%84%EB%A6%B0%ED%8A%B8%EB%A7%A8%ED%88%AC%EB%A7%A8%2031151TR002&img=http://shopping.phinf.naver.net/main_8316655/8316655693.jpg HTTP/1.1\" 200 86\n",
      "121.140.65.88 - - [23/Aug/2016 07:57:31] \"GET /classify?name=%EC%86%8C%EB%A7%A4%20%EB%A0%88%EC%9D%B4%EC%8A%A4%20%EC%89%AC%ED%8F%B0%EB%B8%94%EB%9D%BC%EC%9A%B0%EC%8A%A4(PSR2LSSC)/%20%EC%88%B2&img=http://shopping.phinf.naver.net/main_8289954/8289954113.jpg HTTP/1.1\" 200 99\n"
     ]
    },
    {
     "name": "stdout",
     "output_type": "stream",
     "text": [
      " 삼성카드5 할인 15일까지  스팽스  OPEN BUST  MID THIGH BODY  2325  삼성카드 5 할인 15 일 까지 스팽 스 OPEN BUST MID THIGH BODY 2325\n",
      " AK PLAZA  비너스 비너스 브이 스포츠 브이핏 브래지어 vbrs102d AK PLAZA 비너스 비너스 브이 스포츠 브이 핏 브래지어 vbrs 102 d\n",
      " AK몰 비너스    비너스VBR0740 쉘쿨몰드브라 C D컵  AK 몰 비너스 비너스 VBR 0740 쉘 쿨 몰드 브라 C D 컵\n",
      " 프린세스 탐탐  레이스 홑겹 브라  PBR074J  프린세스 탐탐 레이스 홑겹 브라 PBR 074 J\n",
      " 바디스토리  볼륨업 여성 B컵 보정 브라팬티 OWS8578   기존가 67500원  바디 스토리 볼륨 업 여성 B 컵 보정 브라 팬티 OWS 8578 기존 가 67500 원\n",
      "버커루 남여공용 21수 싸이로 포켓 라운드넥 티셔츠 B135TS030P  버 커 루 남여 공용 21 수 싸이 로 포켓 라운드 넥 티셔츠 B 135 TS 030 P\n",
      "잭앤질  롯데백화점 남성 카모전판 프린트맨투맨 31151TR002 잭 앤 질 롯데 백화점 남성 카모 전판 프린트 맨투맨 31151 TR 002\n",
      "소매 레이스 쉬폰블라우스 PSR2LSSC   숲 소매 레이스 쉬 폰 블라우스 PSR 2 LSSC 숲\n",
      "SOUP AK PLAZA  SOUP SR1LS91 카메라 프린트 블라우스 SOUP AK PLAZA SOUP SR 1 LS 91 카메라 프린트 블라우스\n",
      " 하프클럽 Purplow 퍼플로우스왈로 셔츠 PNFWSH139  하프 클럽 Purplow 퍼플 로우스 왈 로 셔츠 PNFWSH 139\n"
     ]
    },
    {
     "name": "stderr",
     "output_type": "stream",
     "text": [
      "121.140.65.88 - - [23/Aug/2016 07:57:31] \"GET /classify?name=SOUP(AK%20PLAZA)/SOUP(SR1LS91)%EC%B9%B4%EB%A9%94%EB%9D%BC%20%ED%94%84%EB%A6%B0%ED%8A%B8%20%EB%B8%94%EB%9D%BC%EC%9A%B0%EC%8A%A4&img=http://shopping.phinf.naver.net/main_8286253/8286253495.jpg HTTP/1.1\" 200 99\n",
      "121.140.65.88 - - [23/Aug/2016 07:57:31] \"GET /classify?name=[%ED%95%98%ED%94%84%ED%81%B4%EB%9F%BD/Purplow]%ED%8D%BC%ED%94%8C%EB%A1%9C%EC%9A%B0%EC%8A%A4%EC%99%88%EB%A1%9C%20%EC%85%94%EC%B8%A0(PNFWSH139)&img=http://shopping.phinf.naver.net/main_8038150/8038150166.jpg HTTP/1.1\" 200 87\n",
      "121.140.65.88 - - [23/Aug/2016 07:57:31] \"GET /classify?name=%ED%8D%BC%ED%94%8C%EB%A1%9C%EC%9A%B0%20%EC%8A%A4%EC%99%88%EB%A1%9C%20%EC%85%94%EC%B8%A0(PNFWSH139)/%20%ED%8D%BC%ED%94%8C%EB%A1%9C%EC%9A%B0&img=http://shopping.phinf.naver.net/main_8042144/8042144702.jpg HTTP/1.1\" 200 87\n",
      "121.140.65.88 - - [23/Aug/2016 07:57:31] \"GET /classify?name=[%ED%95%B4%EC%99%B8]%20Cute%20Korean%20Women%20Girl%20High%20Waist%20Embossed%20Mini%20Short%20Pants%20skinny%20Hot%20Pants%20Size%20%EA%B5%AC%EB%A7%A4%EB%8C%80%ED%96%89%20%EC%A7%81%EA%B5%AC&img=http://shopping.phinf.naver.net/main_8318274/8318274213.jpg HTTP/1.1\" 200 124\n",
      "121.140.65.88 - - [23/Aug/2016 07:57:31] \"GET /classify?name=[%ED%95%B4%EC%99%B8]%20flower%20Satin%20bloomers%20bow%20baby%20bloomers%20PP%20Pants%20satin%20ruffle%20christmas%20baby%20bloomers%20TZ-101/?&img=http://shopping.phinf.naver.net/main_7816136/7816136798.1.jpg HTTP/1.1\" 200 124\n",
      "121.140.65.88 - - [23/Aug/2016 07:57:31] \"GET /classify?name=[9%%20%EC%A6%89%EC%8B%9C%ED%95%A0%EC%9D%B8][%EB%B3%B4%EC%8A%88%EC%95%84]%EC%88%99%EB%85%80-%EC%A1%B0%EC%97%AC%EC%A3%BC%EA%B3%A0%20%EC%9E%A1%EC%95%84%EC%A3%BC%EB%8A%94%20p250%EC%86%8D%EB%B0%94%EC%A7%80%20%EB%B8%94%EB%9E%99%20%EA%B7%B8%EB%A0%88%EC%9D%B4%20%EC%A7%84%EA%B7%B8%EB%A0%88%EC%9D%B4%20%ED%83%9D1%EC%A2%85[3138]/%20%EB%B3%B4%EC%8A%88%EC%95%84&img=http://shopping.phinf.naver.net/main_7440709/7440709819.jpg HTTP/1.1\" 200 118\n",
      "121.140.65.88 - - [23/Aug/2016 07:57:31] \"GET /classify?name=[AK%EB%AA%B0/%EB%B3%B4%EC%8A%88%EC%95%84]%20%20[%EB%B3%B4%EC%8A%88%EC%95%84]%EC%88%99%EB%85%80-%EC%A1%B0%EC%97%AC%EC%A3%BC%EA%B3%A0%20%EC%9E%A1%EC%95%84%EC%A3%BC%EB%8A%94%20p250%EC%86%8D%EB%B0%94%EC%A7%80%20%EB%B8%94%EB%9E%99,%EA%B7%B8%EB%A0%88%EC%9D%B4,%EC%A7%84%EA%B7%B8%EB%A0%88%EC%9D%B4%20%ED%83%9D1%EC%A2%85[3138]&img=http://shopping.phinf.naver.net/main_7447915/7447915847.1.jpg HTTP/1.1\" 200 74\n",
      "121.140.65.88 - - [23/Aug/2016 07:57:31] \"GET /classify?name=[%ED%95%B4%EC%99%B8]%EC%8A%A4%EC%BB%A4%ED%8A%B8%20/%20%EC%B9%98%EB%A7%88%20/%20D%EA%B3%B5%EC%A3%BC%20%EB%B0%94%EB%9E%8C%20%EC%8A%88%ED%8D%BC%20%EB%8B%AC%EC%BD%A4%ED%95%9C%20%EC%9A%94%EC%A0%95%20%EB%9E%91%20%EA%B1%B8%EC%AD%89%ED%95%9C%20%EC%A7%93%EC%9D%B4%EB%82%98%20%EA%B3%84%EC%86%8D%ED%95%98%EC%8B%9C%EC%A7%80%20%EC%93%B4%20fleabane%20%EA%B1%B0%EC%A6%88%20%EC%8A%A4%EC%BB%A4%ED%8A%B8%20%EB%8B%A4%EC%84%AF%20%EC%B8%B5%20%EB%B2%A0%EC%9D%BC%20%EC%8A%A4%EC%BB%A4%ED%8A%B8%20%EB%AC%B4%EB%A3%8C%20%EB%B0%B0%EC%86%A1%20Q150%20%EB%A5%BC%20%EC%A0%9C%EA%B8%B0&img=http://shopping.phinf.naver.net/main_8354678/8354678899.jpg HTTP/1.1\" 200 80\n",
      "121.140.65.88 - - [23/Aug/2016 07:57:31] \"GET /classify?name=[%EB%8D%94%EC%9D%B4%EC%81%A8/theebbm]%20%EB%8D%94%EC%9D%B4%EC%81%A8%20%EB%B2%A0%EC%9D%BC%EC%8A%A4%EC%BB%A4%ED%8A%B8(6575078)&img=http://shopping.phinf.naver.net/main_8340064/8340064463.jpg HTTP/1.1\" 200 80\n",
      "121.140.65.88 - - [23/Aug/2016 07:57:31] \"GET /classify?name=[%ED%8C%A8%EC%85%98%ED%94%8C%EB%9F%AC%EC%8A%A4][%EC%9B%94%ED%8A%BC%ED%82%A4%EC%A6%88][%EC%9B%94%ED%8A%BC%ED%82%A4%EC%A6%88]3%EB%8B%A8%EC%BB%AC%EB%9F%AC%ED%8B%B0%EC%85%94%EC%B8%A0_L&img=http://shopping.phinf.naver.net/main_8217449/8217449778.jpg HTTP/1.1\" 200 80\n"
     ]
    },
    {
     "name": "stdout",
     "output_type": "stream",
     "text": [
      "퍼플로우 스왈로 셔츠 PNFWSH139   퍼플로우 퍼 플로우 스 왈 로 셔츠 PNFWSH 139 퍼 플로우\n",
      " 해외  Cute Korean Women Girl High Waist Embossed Mini Short Pants skinny Hot Pants Size 구매대행 직구 해외 Cute Korean Women Girl High Waist Embossed Mini Short Pants skinny Hot Pants Size 구매 대행 직구\n",
      " 해외  flower Satin bloomers bow baby bloomers PP Pants satin ruffle christmas baby bloomers TZ 101   해외 flower Satin bloomers bow baby bloomers PP Pants satin ruffle christmas baby bloomers TZ 101\n",
      " 9  즉시할인  보슈아 숙녀 조여주고 잡아주는 p250속바지 블랙 그레이 진그레이 택1종 3138   보슈아 9 즉시 할인 보 슈 아 숙녀 조여 주 고 잡 아 주 는 p 250 속바지 블랙 그레이 진 그레이 택 1 종 3138 보슈 아\n",
      " AK몰 보슈아    보슈아 숙녀 조여주고 잡아주는 p250속바지 블랙 그레이 진그레이 택1종 3138  AK 몰 보 슈 아 보 슈 아 숙녀 조여 주 고 잡 아 주 는 p 250 속바지 블랙 그레이 진 그레이 택 1 종 3138\n",
      " 해외 스커트   치마   D공주 바람 슈퍼 달콤한 요정 랑 걸쭉한 짓이나 계속하시지 쓴 fleabane 거즈 스커트 다섯 층 베일 스커트 무료 배송 Q150 를 제기 해외 스커트 치마 D 공주 바람 슈퍼 달콤 한 요정 랑 걸쭉 한 짓 이나 계속 하 시 지 쓴 fleabane 거즈 스커트 다섯 층 베일 스커트 무료 배송 Q 150 를 제기\n",
      " 더이쁨 theebbm  더이쁨 베일스커트 6575078  더 이쁨 theebbm 더 이쁨 베일 스커트 6575078\n",
      " 패션플러스  월튼키즈  월튼키즈 3단컬러티셔츠 L 패션 플러스 월튼 키즈 월튼 키즈 3 단 컬러 티셔츠 L\n",
      "유솔 PNC01 남아 스키점퍼 ULSP44VB01 OR 유솔 PNC 01 남아 스키 점퍼 ULSP 44 VB 01 OR\n",
      "도트 아사 하의 ANLB4501 도트 아사 하의 ANLB 4501\n"
     ]
    },
    {
     "name": "stderr",
     "output_type": "stream",
     "text": [
      "121.140.65.88 - - [23/Aug/2016 07:57:31] \"GET /classify?name=%EC%9C%A0%EC%86%94%20PNC01%20%EB%82%A8%EC%95%84%20%EC%8A%A4%ED%82%A4%EC%A0%90%ED%8D%BC%20ULSP44VB01%20OR&img=http://shopping.phinf.naver.net/main_8206279/8206279654.jpg HTTP/1.1\" 200 80\n",
      "121.140.65.88 - - [23/Aug/2016 07:57:31] \"GET /classify?name=%EB%8F%84%ED%8A%B8%20%EC%95%84%EC%82%AC%20%ED%95%98%EC%9D%98%20ANLB4501&img=http://shopping.phinf.naver.net/main_7764039/7764039302.jpg HTTP/1.1\" 200 87\n",
      "121.140.65.88 - - [23/Aug/2016 07:57:31] \"GET /classify?name=[%ED%95%B4%EC%99%B8%EB%B0%B0%EC%86%A1][%EC%97%90%EC%9D%B4%EC%97%90%ED%94%84%EB%89%B4%EC%9A%95/%EB%B9%85%ED%86%A0%EB%A6%AC%EC%95%84%EC%8B%9C%ED%81%AC%EB%A6%BF]%20BEACH%20SEXY%20THE%20PLUNGE%20HALTER%20WHITE&img=http://shopping.phinf.naver.net/main_8359172/8359172535.jpg HTTP/1.1\" 200 99\n",
      "121.140.65.88 - - [23/Aug/2016 07:57:31] \"GET /classify?name=[%ED%83%9C%EC%B0%BDOX%EB%B0%80%EB%9D%BC%EB%85%B8]%EC%96%91%EB%A9%B4%EA%B3%A0%EA%B8%89%EC%88%98%EC%9D%B4%EC%A4%91%EC%A7%81/%EB%82%A8%EC%84%B1%EC%9A%A9%20%EC%88%9C%EB%A9%B4%EB%82%B4%EB%B3%B5%EC%83%81%ED%95%98%201%EC%84%B8%ED%8A%B8[MLXV049312/N1]&img=http://shopping.phinf.naver.net/main_5661781/5661781653.jpg HTTP/1.1\" 200 117\n",
      "121.140.65.88 - - [23/Aug/2016 07:57:31] \"GET /classify?name=[%ED%83%9C%EC%B0%BDOX%EB%B0%80%EB%9D%BC%EB%85%B8]%EC%9B%90%EC%A0%81%EC%99%B8%EC%84%A0%20%EC%84%B8%EB%9D%BC%EB%AF%B9%EC%9B%90%EC%82%AC-%EC%A3%BC%EC%9A%94%EB%B6%80%EC%9C%84%EB%8D%A7%EB%8B%A8%20%EB%82%A8%EC%84%B1%EB%82%B4%EB%B3%B5%20%EC%83%81%ED%95%981%EC%84%B8%ED%8A%B8[MLXV049412/N1]&img=http://shopping.phinf.naver.net/main_5872462/5872462125.jpg HTTP/1.1\" 200 117\n",
      "121.140.65.88 - - [23/Aug/2016 07:57:31] \"GET /classify?name=%EA%B2%A8%EB%93%9C%EB%9E%91%EC%9D%B4%EB%95%80%EC%9E%90%EA%B5%AD%EB%B0%A9%EC%A7%80%EC%8B%9C%ED%8A%B8/%EA%B2%A8%EB%93%9C%EB%9E%91%EC%9D%B4/%EA%B2%A8%EB%93%9C%EB%9E%91%EC%9D%B4%EB%95%80%ED%8C%A8%EB%93%9C/%EA%B2%A8%EB%93%9C%EB%9E%91%EC%9D%B4%ED%8C%A8%EB%93%9C/%EA%B2%A8%EB%93%9C%EB%9E%91%EC%9D%B4%EB%95%80/%EB%95%80/%EA%B2%A8%EB%95%80/%EA%B2%A8%EB%93%9C%EB%9E%91%EC%9D%B4%EB%83%84%EC%83%88/&img=http://shopping.phinf.naver.net/main_8291644/8291644883.jpg HTTP/1.1\" 200 123\n",
      "121.140.65.88 - - [23/Aug/2016 07:57:31] \"GET /classify?name=[5%%20%EC%A6%89%EC%8B%9C%ED%95%A0%EC%9D%B8]%EA%B2%A8%EB%93%9C%EB%9E%91%EC%9D%B4%20%EB%95%80%20%ED%9D%A1%EC%88%98%20%EC%9D%B4%EB%84%88%EC%9B%A8%EC%96%B4(%ED%83%B1%ED%81%AC%ED%83%91)/%EA%B2%A8%EB%93%9C%EB%9E%91%EC%9D%B4%EB%95%80%ED%8C%A8%EB%93%9C%20%EB%B6%80%EC%B0%A9/%EB%95%80%EB%83%84%EC%83%88/%EB%95%80%EC%A0%9C%EA%B1%B0/%EC%95%94%EB%82%B4/%EB%8B%A4%ED%95%9C%EC%A6%9D/%EB%95%80%EC%96%BC%EB%A3%A9%EB%B0%A9%EC%A7%80/%EC%9D%BC%EB%B3%B8%EC%A0%95%ED%92%88&img=http://shopping.phinf.naver.net/main_8265085/8265085861.jpg HTTP/1.1\" 200 99\n",
      "121.140.65.88 - - [23/Aug/2016 07:57:31] \"GET /classify?name=[%EC%82%BC%EC%84%B1%EC%B9%B4%EB%93%9C5%%ED%95%A0%EC%9D%B8~15%EC%9D%BC%EA%B9%8C%EC%A7%80][%EB%AF%B8%EB%8B%88%EB%A9%88]%ED%95%AB%ED%94%BD%EC%8A%A4%20%EC%9E%A5%EC%8B%9D%20%EB%A0%88%EC%9D%B4%EC%96%B4%20%EC%9B%90%ED%94%BC%EC%8A%A4+%EB%84%A4%ED%81%AC%EB%A6%AC%EC%8A%A4%20MOCAWO7010BK&img=http://shopping.phinf.naver.net/main_7949318/7949318681.jpg HTTP/1.1\" 200 80\n",
      "121.140.65.88 - - [23/Aug/2016 07:57:31] \"GET /classify?name=%EC%BD%94%EC%BD%94%EC%95%A0%EB%B9%84%EB%89%B4%20[%EC%98%A4%EA%B0%80%EA%B2%8C/cocoavenue]%EC%A5%AC%EC%8B%9C%ED%95%80%ED%84%B1%EC%9B%90%ED%94%BC%EC%8A%A4,1101&img=http://shopping.phinf.naver.net/main_8341746/8341746194.jpg HTTP/1.1\" 200 86\n"
     ]
    },
    {
     "name": "stdout",
     "output_type": "stream",
     "text": [
      " 해외배송  에이에프뉴욕 빅토리아시크릿  BEACH SEXY THE PLUNGE HALTER WHITE 해외 배송 에이 에프 뉴욕 빅토리아 시크릿 BEACH SEXY THE PLUNGE HALTER WHITE\n",
      " 태창OX밀라노 양면고급수이중직 남성용 순면내복상하 1세트 MLXV049312 N1  태창 OX 밀라노 양면 고급 수이 중직 남성 용 순면 내복 상하 1 세트 MLXV 049312 N 1\n",
      " 태창OX밀라노 원적외선 세라믹원사 주요부위덧단 남성내복 상하1세트 MLXV049412 N1  태창 OX 밀라노 원적외선 세라믹 원사 주요 부위 덧단 남성 내복 상하 1 세트 MLXV 049412 N 1\n",
      "겨드랑이땀자국방지시트 겨드랑이 겨드랑이땀패드 겨드랑이패드 겨드랑이땀 땀 겨땀 겨드랑이냄새  겨드랑 이 땀자국 방지 시트 겨드랑 이 겨드랑 이 땀 패드 겨드랑 이 패드 겨드랑 이 땀 땀 겨 땀 겨드랑 이 냄새\n",
      " 5  즉시할인 겨드랑이 땀 흡수 이너웨어 탱크탑  겨드랑이땀패드 부착 땀냄새 땀제거 암내 다한증 땀얼룩방지 일본정품 5 즉시 할인 겨드랑 이 땀 흡수 이너 웨 어 탱크 탑 겨드랑 이 땀 패드 부착 땀 냄새 땀 제거 암내 다한증 땀 얼룩 방지 일본 정품\n",
      " 삼성카드5 할인 15일까지  미니멈 핫픽스 장식 레이어 원피스 네크리스 MOCAWO7010BK 삼성카드 5 할인 15 일 까지 미니멈 핫픽스 장식 레이어 원피스 네 크리스 MOCAWO 7010 BK\n",
      "코코애비뉴  오가게 cocoavenue 쥬시핀턱원피스 1101 코코 애 비뉴 오가 게 cocoavenue 쥬시 핀턱 원피스 1101\n",
      " AK몰 아디다스    아디다스 엔트라다 14 저지 F50488  오렌지 축구 경량 반팔티 단체 반팔 티셔츠 유니폼 AK 몰 아디 다스 아디 다스 엔 트 라 다 14 저지 F 50488 오렌지 축구 경량 반팔 티 단체 반팔 티셔츠 유니폼\n",
      " 뉴발란스  뉴발란스    15 S S 신상 TRAIL 타이트 반팔티 NBNE525031 BK 뉴 발란스 뉴 발란스 15 S S 신상 TRAIL 타이트 반팔 티 NBNE 525031 BK\n"
     ]
    },
    {
     "name": "stderr",
     "output_type": "stream",
     "text": [
      "121.140.65.88 - - [23/Aug/2016 07:57:31] \"GET /classify?name=[AK%EB%AA%B0/%EC%95%84%EB%94%94%EB%8B%A4%EC%8A%A4]%20%20%20%EC%95%84%EB%94%94%EB%8B%A4%EC%8A%A4%20%EC%97%94%ED%8A%B8%EB%9D%BC%EB%8B%A4%2014%20%EC%A0%80%EC%A7%80(F50488)%20%EC%98%A4%EB%A0%8C%EC%A7%80%20%EC%B6%95%EA%B5%AC%20%EA%B2%BD%EB%9F%89%20%EB%B0%98%ED%8C%94%ED%8B%B0%20%EB%8B%A8%EC%B2%B4%20%EB%B0%98%ED%8C%94%20%ED%8B%B0%EC%85%94%EC%B8%A0%20%EC%9C%A0%EB%8B%88%ED%8F%BC&img=http://shopping.phinf.naver.net/main_8055850/8055850725.jpg HTTP/1.1\" 200 80\n",
      "121.140.65.88 - - [23/Aug/2016 07:57:31] \"GET /classify?name=[%EB%89%B4%EB%B0%9C%EB%9E%80%EC%8A%A4][%EB%89%B4%EB%B0%9C%EB%9E%80%EC%8A%A4]%20-%2015%20S/S%20%EC%8B%A0%EC%83%81%20TRAIL%20%ED%83%80%EC%9D%B4%ED%8A%B8%20%EB%B0%98%ED%8C%94%ED%8B%B0%20NBNE525031%20BK&img=http://shopping.phinf.naver.net/main_8367197/8367197428.jpg HTTP/1.1\" 200 80\n",
      "121.140.65.88 - - [23/Aug/2016 07:57:31] \"GET /classify?name=%EB%B1%85%EB%B1%85%20%EC%8A%AC%EB%A6%BC%20%EB%A9%B4%20%EB%B3%B8%EB%94%A9%ED%8C%AC%EC%B8%A03%EC%A2%85(%EC%97%AC)&img=http://image.gsshop.com/image/18/23/18236324_L1.jpg HTTP/1.1\" 200 118\n",
      "121.140.65.88 - - [23/Aug/2016 07:57:31] \"GET /classify?name=%EB%B1%85%EB%B1%85%20%EC%8A%AC%EB%A6%BC%20%EB%A9%B4%20%EB%B3%B8%EB%94%A9%ED%8C%AC%EC%B8%A03%EC%A2%85(%EC%97%AC)&img=http://image.gsshop.com/image/18/23/18236324_L1.jpg HTTP/1.1\" 200 118\n",
      "121.140.65.88 - - [23/Aug/2016 07:57:31] \"GET /classify?name=[5%%20%EC%A6%89%EC%8B%9C%ED%95%A0%EC%9D%B8][%ED%8C%A8%EC%85%98%ED%94%8C%EB%9F%AC%EC%8A%A4][%EA%B9%8C%EB%A6%AC%EC%A0%9C]%ED%94%8C%EB%A1%9C%EB%9D%BC%EC%97%AC%EC%95%84%EB%AF%B8%EB%94%94%ED%8C%AC%ED%8B%B0(%ED%8E%B8%EB%A9%B4%EC%9F%88%EA%B0%80%EB%93%9C)&img=http://shopping.phinf.naver.net/main_8266391/8266391227.jpg HTTP/1.1\" 200 99\n",
      "121.140.65.88 - - [23/Aug/2016 07:57:31] \"GET /classify?name=[%EC%98%A4%EA%B0%80%EB%8B%89%EB%A7%98]%EB%A1%9C%EA%B7%B8%EB%82%A8%EC%95%84%EA%B8%B4%EC%86%8C%EC%95%84%EB%8F%99%EC%9E%A0%EC%98%B7[MZF1SW01]%20(%EA%B8%B0%EC%A1%B4%EA%B0%80:65000%EC%9B%90)&img=http://shopping.phinf.naver.net/main_7933989/7933989221.1.jpg HTTP/1.1\" 200 124\n",
      "121.140.65.88 - - [23/Aug/2016 07:57:31] \"GET /classify?name=%EC%A7%80%EB%B0%A9%EC%8B%9C%20%20%EB%82%A8%EC%84%B1%20%EC%BD%94%ED%8A%B8%20/%2013F0211047%20001(%EB%B8%94%EB%9E%99)%20/%20%EB%A1%B1%EC%9E%90%EC%BC%93&img=http://shopping.phinf.naver.net/main_8287050/8287050563.jpg HTTP/1.1\" 200 74\n",
      "121.140.65.88 - - [23/Aug/2016 07:57:31] \"GET /classify?name=[%EC%96%B4%EC%8A%A4%EC%95%A4%EB%8E%80]%EC%B9%BC%EB%9D%BC%EB%B8%94%EB%9F%AD%EC%A0%80%EC%A7%802%EB%B2%84%ED%8A%BC%EC%9E%90%EC%BC%93(TAJY201)&img=http://shopping.phinf.naver.net/main_8233554/8233554928.jpg HTTP/1.1\" 200 74\n",
      "121.140.65.88 - - [23/Aug/2016 07:57:31] \"GET /classify?name=[%ED%98%84%EB%8C%80%EC%B9%B4%EB%93%9C7%%ED%95%A0%EC%9D%B8~28%EC%9D%BC%EA%B9%8C%EC%A7%80][%EC%BB%A4%EC%8A%A4%ED%85%80%EB%A9%9C%EB%A1%9C%EC%9A%B0][voyage]%20corduroy%20patch%20jumper%20-%20CWUA30111OR&img=http://shopping.phinf.naver.net/main_8082765/8082765754.jpg HTTP/1.1\" 200 74\n",
      "121.140.65.88 - - [23/Aug/2016 07:57:31] \"GET /classify?name=[5%%20%EC%A6%89%EC%8B%9C%ED%95%A0%EC%9D%B8][%EB%A1%AF%EB%8D%B0%EB%B0%B1%ED%99%94%EC%A0%90]%EC%BB%A4%EC%8A%A4%ED%85%80%EB%A9%9C%EB%A1%9C%EC%9A%B0%2014%EB%85%84%20F/W%EC%8B%A0%EC%83%81%20%EB%84%98%EB%B2%84%20%EB%8B%A4%EC%9A%B4%20%EC%A0%90%ED%8D%BC(CWUW46551)&img=http://shopping.phinf.naver.net/main_8167033/8167033019.jpg HTTP/1.1\" 200 74\n"
     ]
    },
    {
     "name": "stdout",
     "output_type": "stream",
     "text": [
      "뱅뱅 슬림 면 본딩팬츠3종 여  뱅뱅 슬림 면 본딩 팬츠 3 종 여\n",
      "뱅뱅 슬림 면 본딩팬츠3종 여  뱅뱅 슬림 면 본딩 팬츠 3 종 여\n",
      " 5  즉시할인  패션플러스  까리제 플로라여아미디팬티 편면쟈가드  5 즉시 할인 패션 플러스 까리 제 플로라 여아 미디 팬티 편면 쟈 가드\n",
      " 오가닉맘 로그남아긴소아동잠옷 MZF1SW01   기존가 65000원  오가 닉 맘 로그 남 아 긴 소 아동 잠옷 MZF 1 SW 01 기존 가 65000 원\n",
      "지방시  남성 코트   13F0211047 001 블랙    롱자켓 지방시 남성 코트 13 F 0211047 001 블랙 롱 자켓\n",
      " 어스앤뎀 칼라블럭저지2버튼자켓 TAJY201  어스 앤 뎀 칼라 블럭 저지 2 버튼 자켓 TAJY 201\n",
      " 현대카드7 할인 28일까지  커스텀멜로우  voyage  corduroy patch jumper   CWUA30111OR 현대 카드 7 할인 28 일 까지 커스텀 멜 로우 voyage corduroy patch jumper CWUA 30111 OR\n",
      " 5  즉시할인  롯데백화점 커스텀멜로우 14년 F W신상 넘버 다운 점퍼 CWUW46551  5 즉시 할인 롯데 백화점 커스텀 멜 로우 14 년 F W 신상 넘버 다운 점퍼 CWUW 46551\n",
      " EVISU  여성 라이트 인디고슬림 텍스트프린트 데님팬츠 EN8JP060 BL P021219638 EVISU 여성 라이트 인디고 슬림 텍스트 프린트 데님 팬츠 EN 8 JP 060 BL P 021219638\n",
      " JEEP 남녀공용전판프린트슬림배기팬츠 JG1DPF702 JEEP 남녀 공용 전판 프린트 슬림 배기팬츠 JG 1 DPF 702\n",
      " 국민카드5   제이제이옴므 JJHOMME  클래식 네이비 보카시 3종 정장수트 JJ 15BZ 02SET 국민카드 5 제이제이 옴므 JJHOMME 클래식 네이비 보카 시 3 종 정장 수트 JJ 15 BZ 02 SET\n"
     ]
    },
    {
     "name": "stderr",
     "output_type": "stream",
     "text": [
      "121.140.65.88 - - [23/Aug/2016 07:57:31] \"GET /classify?name=[EVISU]%20%EC%97%AC%EC%84%B1_%EB%9D%BC%EC%9D%B4%ED%8A%B8%20%EC%9D%B8%EB%94%94%EA%B3%A0%EC%8A%AC%EB%A6%BC%20%ED%85%8D%EC%8A%A4%ED%8A%B8%ED%94%84%EB%A6%B0%ED%8A%B8%20%EB%8D%B0%EB%8B%98%ED%8C%AC%EC%B8%A0_EN8JP060_BL_P021219638&img=http://shopping.phinf.naver.net/main_8317496/8317496263.jpg HTTP/1.1\" 200 86\n",
      "121.140.65.88 - - [23/Aug/2016 07:57:31] \"GET /classify?name=[JEEP]%EB%82%A8%EB%85%80%EA%B3%B5%EC%9A%A9%EC%A0%84%ED%8C%90%ED%94%84%EB%A6%B0%ED%8A%B8%EC%8A%AC%EB%A6%BC%EB%B0%B0%EA%B8%B0%ED%8C%AC%EC%B8%A0_JG1DPF702&img=http://shopping.phinf.naver.net/main_8305062/8305062386.jpg HTTP/1.1\" 200 86\n",
      "121.140.65.88 - - [23/Aug/2016 07:57:31] \"GET /classify?name=[%EA%B5%AD%EB%AF%BC%EC%B9%B4%EB%93%9C5%][%EC%A0%9C%EC%9D%B4%EC%A0%9C%EC%9D%B4%EC%98%B4%EB%AF%80(JJHOMME)]%ED%81%B4%EB%9E%98%EC%8B%9D%20%EB%84%A4%EC%9D%B4%EB%B9%84%20%EB%B3%B4%EC%B9%B4%EC%8B%9C%203%EC%A2%85%20%EC%A0%95%EC%9E%A5%EC%88%98%ED%8A%B8%20JJ_15BZ_02SET&img=http://shopping.phinf.naver.net/main_8274687/8274687421.jpg HTTP/1.1\" 200 74\n",
      "121.140.65.88 - - [23/Aug/2016 07:57:31] \"GET /classify?name=[%EB%AF%B8%EB%84%B4%EC%98%B4%EB%AF%80]%20%7B%EC%A0%95%EC%9E%A5%EB%B0%94%EC%A7%80%7D%EC%97%98%EB%AA%A8%EC%B2%B4%ED%81%AC%ED%8F%AC%EB%A9%80%EC%A0%95%EC%9E%A5%EB%B0%94%EC%A7%80%7BP1138_PRSSS%7D&img=http://shopping.phinf.naver.net/main_8283873/8283873788.jpg HTTP/1.1\" 200 74\n",
      "121.140.65.88 - - [23/Aug/2016 07:57:31] \"GET /classify?name=[%EC%98%A4%EA%B0%80%EA%B2%8C/TOKIO]%EC%9B%A8%EC%9D%B4%EB%B8%8C%EC%9A%B8%EB%8B%88%ED%8A%B8%EB%B2%A0%EC%8A%A4%ED%8A%B8(%EA%B7%B8%EB%A0%88%EC%9D%B4)&img=http://shopping.phinf.naver.net/main_8203833/8203833028.jpg HTTP/1.1\" 200 74\n",
      "121.140.65.88 - - [23/Aug/2016 07:57:31] \"GET /classify?name=[5%%20%EC%A6%89%EC%8B%9C%ED%95%A0%EC%9D%B8][%EC%98%A4%EA%B0%80%EA%B2%8C]%20%20%EC%98%A4%EA%B0%80%EA%B2%8C/TOKIO%20%EC%9B%A8%EC%9D%B4%EB%B8%8C%EC%9A%B8%EB%8B%88%ED%8A%B8%EB%B2%A0%EC%8A%A4%ED%8A%B8%EA%B7%B8%EB%A0%88%EC%9D%B4%20%20P020278325&img=http://shopping.phinf.naver.net/main_8203508/8203508498.jpg HTTP/1.1\" 200 74\n",
      "121.140.65.88 - - [23/Aug/2016 07:57:31] \"GET /classify?name=[KB%EA%B5%AD%EB%AF%BC%EC%B9%B4%EB%93%9C%205%%ED%95%A0%EC%9D%B8,%203/14][%EB%94%94%EC%8A%A4%ED%80%98%EC%96%B4%EB%93%9C2]%20(QR%EC%BD%94%EB%93%9C%EC%9D%B8%EC%A6%9D)14FW%2074LA0651%20S30144%20470%20/%20%EB%94%94%ED%80%98%20%EC%98%A4%EB%A0%8C%EC%A7%80%EC%8A%A4%ED%8C%9F%20%ED%95%B8%EB%93%9C%EC%BB%A4%ED%94%84%ED%8C%A8%EC%B9%98%20%EB%94%94%EC%8A%A4%EC%A7%84%20%EC%8A%AC%EB%A6%BC%ED%95%8F%20/%20%EC%A4%91%EC%B2%AD%20/%20%EB%82%A8%EC%84%B1%20%EC%B2%AD%EB%B0%94%EC%A7%80&img=http://shopping.phinf.naver.net/main_8185307/8185307062.1.jpg HTTP/1.1\" 200 80\n",
      "121.140.65.88 - - [23/Aug/2016 07:57:31] \"GET /classify?name=[%EB%94%94%EC%8A%A4%ED%80%98%EC%96%B4%EB%93%9C2]%20%ED%99%94%EC%9D%B4%ED%8A%B8%20%ED%8E%98%EC%9D%B8%ED%8C%85%20%EB%94%94%EC%8A%A4%2015SS%20%EC%8A%AC%EB%A6%BC%20/%20LA0885%20S30144%20470%20/%20%EB%82%A8%EC%84%B1%20%EC%A7%84&img=http://shopping.phinf.naver.net/main_8201180/8201180892.jpg HTTP/1.1\" 200 80\n",
      "121.140.65.88 - - [23/Aug/2016 07:57:31] \"GET /classify?name=[%ED%95%98%ED%94%84%ED%81%B4%EB%9F%BD/BOYLONDON.]B42TS41U89&img=http://shopping.phinf.naver.net/main_7845252/7845252140.jpg HTTP/1.1\" 200 80\n",
      "121.140.65.88 - - [23/Aug/2016 07:57:31] \"GET /classify?name=[SEOBEAN]%20[%EC%84%9C%EB%B9%88]%EB%8C%84%EB%94%94%20%EC%8A%AC%EB%A6%BC%ED%95%8F%20%ED%95%98%ED%94%84%ED%8C%AC%EC%B8%A0%20SBHNHP-135052_P013862565&img=http://shopping.phinf.naver.net/main_7535029/7535029013.1.jpg HTTP/1.1\" 200 74\n"
     ]
    },
    {
     "name": "stdout",
     "output_type": "stream",
     "text": [
      " 미넴옴므   정장바지 엘모체크포멀정장바지 P1138 PRSSS  미 넴 옴므 정장 바지 엘모 체크 포 멀 정장 바지 P 1138 PRSSS\n",
      " 오가게 TOKIO 웨이브울니트베스트 그레이  오가 게 TOKIO 웨이브 울 니트 베스트 그레이\n",
      " 5  즉시할인  오가게   오가게 TOKIO 웨이브울니트베스트그레이  P020278325 5 즉시 할인 오가 게 오가 게 TOKIO 웨이브 울 니트 베스트 그레이 P 020278325\n",
      " KB국민카드 5 할인  3 14  디스퀘어드2   QR코드인증 14FW 74LA0651 S30144 470   디퀘 오렌지스팟 핸드커프패치 디스진 슬림핏   중청   남성 청바지 KB 국민카드 5 할인 3 14 디 스퀘어드 2 QR 코드 인증 14 FW 74 LA 0651 S 30144 470 디 퀘 오렌지 스팟 핸드 커 프 패치 디 스진 슬림 핏 중청 남성 청바지\n",
      " 디스퀘어드2  화이트 페인팅 디스 15SS 슬림   LA0885 S30144 470   남성 진 디 스퀘어드 2 화이트 페인팅 디스 15 SS 슬림 LA 0885 S 30144 470 남성 진\n",
      " 하프클럽 BOYLONDON  B42TS41U89 하프 클럽 BOYLONDON B 42 TS 41 U 89\n",
      " SEOBEAN   서빈 댄디 슬림핏 하프팬츠 SBHNHP 135052 P013862565 SEOBEAN 서빈 댄디 슬림 핏 하프 팬츠 SBHNHP 135052 P 013862565\n",
      " 엠비오 엠비오 F W 소매 배색 알파카 혼방 네이비 피코트 MK4X30002R  엠 비 오 엠 비오 F W 소매 배색 알파카 혼방 네이비 피코트 MK 4 X 30002 R\n",
      " MVIO  소매 배색 알파카 혼방 네이비 피코트  MK4X30002R  MVIO 소매 배색 알파카 혼방 네이비 피코트 MK 4 X 30002 R\n",
      " fashionplus  HEAD  소셜 후디드 여성 트레이닝 팬츠 JOHS53221MG fashionplus HEAD 소셜 후디 드 여성 트레이닝 팬츠 JOHS 53221 MG\n"
     ]
    },
    {
     "name": "stderr",
     "output_type": "stream",
     "text": [
      "121.140.65.88 - - [23/Aug/2016 07:57:31] \"GET /classify?name=[%EC%97%A0%EB%B9%84%EC%98%A4]%EC%97%A0%EB%B9%84%EC%98%A4%20F/W%20%EC%86%8C%EB%A7%A4%20%EB%B0%B0%EC%83%89%20%EC%95%8C%ED%8C%8C%EC%B9%B4%20%ED%98%BC%EB%B0%A9%20%EB%84%A4%EC%9D%B4%EB%B9%84%20%ED%94%BC%EC%BD%94%ED%8A%B8(MK4X30002R)&img=http://shopping.phinf.naver.net/main_8191868/8191868491.1.jpg HTTP/1.1\" 200 74\n",
      "121.140.65.88 - - [23/Aug/2016 07:57:31] \"GET /classify?name=[MVIO]%20%EC%86%8C%EB%A7%A4%20%EB%B0%B0%EC%83%89%20%EC%95%8C%ED%8C%8C%EC%B9%B4%20%ED%98%BC%EB%B0%A9%20%EB%84%A4%EC%9D%B4%EB%B9%84%20%ED%94%BC%EC%BD%94%ED%8A%B8%20(MK4X30002R)&img=http://shopping.phinf.naver.net/main_8054630/8054630582.jpg HTTP/1.1\" 200 74\n",
      "121.140.65.88 - - [23/Aug/2016 07:57:31] \"GET /classify?name=[fashionplus][HEAD]%20%EC%86%8C%EC%85%9C%20%ED%9B%84%EB%94%94%EB%93%9C%20%EC%97%AC%EC%84%B1%20%ED%8A%B8%EB%A0%88%EC%9D%B4%EB%8B%9D%20%ED%8C%AC%EC%B8%A0_JOHS53221MG&img=http://shopping.phinf.naver.net/main_8329421/8329421460.jpg HTTP/1.1\" 200 92\n",
      "121.140.65.88 - - [23/Aug/2016 07:57:31] \"GET /classify?name=[BC%EC%B9%B4%EB%93%9C5%%ED%95%A0%EC%9D%B8][HEAD][HEAD]%20H2X%203LAYER%20Trail%20%ED%8A%B8%EB%A0%88%EC%9D%B4%EB%8B%9D%20%ED%8C%AC%EC%B8%A0_JHHS57011GY[%ED%8C%A8%EC%85%98%ED%94%8C%EB%9F%AC%EC%8A%A4]&img=http://shopping.phinf.naver.net/main_8316587/8316587100.jpg HTTP/1.1\" 200 92\n",
      "121.140.65.88 - - [23/Aug/2016 07:57:31] \"GET /classify?name=[MARCELO%20BURLONE_r]%20[%EB%A7%88%EB%A5%B4%EC%85%80%EB%A1%9C%EB%B6%88%EB%A1%A0]14SS%20BM4001%2002%2010%20/%20%EC%95%8C%EB%9D%BC%EC%8A%A4%20%ED%8D%BC%ED%94%8C%EC%9C%99%20/%20%EB%B8%94%EB%9E%99%20/%20%EB%82%A8%EC%84%B1%20%ED%9B%84%EB%93%9C%ED%8B%B0_P019375800&img=http://shopping.phinf.naver.net/main_8108883/8108883836.1.jpg HTTP/1.1\" 200 80\n",
      "121.140.65.88 - - [23/Aug/2016 07:57:31] \"GET /classify?name=[%ED%95%98%ED%94%84%ED%81%B4%EB%9F%BD/HARRISON]%EB%9F%AC%EC%89%AC%EB%82%98%EC%97%BC%20MTM%20MB1591&img=http://shopping.phinf.naver.net/main_8273756/8273756026.jpg HTTP/1.1\" 200 80\n",
      "121.140.65.88 - - [23/Aug/2016 07:57:32] \"GET /classify?name=[5%%20%EC%A6%89%EC%8B%9C%ED%95%A0%EC%9D%B8]Sexy%20Backless%20Sleeveless%20Lace%20Hip%20Mini%20Dress%20353&img=http://shopping.phinf.naver.net/main_8309541/8309541669.jpg HTTP/1.1\" 200 80\n",
      "121.140.65.88 - - [23/Aug/2016 07:57:32] \"GET /classify?name=[5%%20%EC%A6%89%EC%8B%9C%ED%95%A0%EC%9D%B8]Rockabilly%20Deep%20Puff%20Bodycon%20Party%20Pencil%20Dress&img=http://shopping.phinf.naver.net/main_8310876/8310876135.jpg HTTP/1.1\" 200 80\n",
      "121.140.65.88 - - [23/Aug/2016 07:57:32] \"GET /classify?name=[%EB%B8%94%EB%A3%A8%EB%A8%B8%ED%95%80]%20%ED%94%8C%EB%A1%9C%EB%9E%84%20%EC%9B%90%ED%94%BC%EC%8A%A4%20BM14FOP606C&img=http://shopping.phinf.naver.net/main_8270968/8270968259.jpg HTTP/1.1\" 200 80\n",
      "121.140.65.88 - - [23/Aug/2016 07:57:32] \"GET /classify?name=[%EC%9E%AD%ED%82%A4%EB%93%9C%20%EC%A3%BC%EB%8B%88%EC%96%B4][%EB%B3%B4%EB%A6%AC%EB%B3%B4%EB%A6%AC/%EC%9E%AD%ED%82%A4%EB%93%9C%20%EC%A3%BC%EB%8B%88%EC%96%B4]%EB%8D%B8%ED%95%80%EC%A1%B0%EB%81%BC%EC%A0%95%EC%9E%A5-%EC%97%AC&img=http://shopping.phinf.naver.net/main_8134935/8134935099.1.jpg HTTP/1.1\" 200 99\n",
      "121.140.65.88 - - [23/Aug/2016 07:57:32] \"GET /classify?name=[%EB%B9%84%EB%B9%84%EC%95%88]%EB%A7%88%EB%A6%84%EB%AA%A8%EC%B2%B4%ED%81%AC%EB%82%A8%EC%84%B1%ED%8A%B8%EB%A0%81%ED%81%AC%ED%8C%AC%ED%8B%B0(TP9346)&img=http://shopping.phinf.naver.net/main_8181527/8181527587.jpg HTTP/1.1\" 200 123\n"
     ]
    },
    {
     "name": "stdout",
     "output_type": "stream",
     "text": [
      " BC카드5 할인  HEAD  HEAD  H2X 3LAYER Trail 트레이닝 팬츠 JHHS57011GY 패션플러스  BC 카드 5 할인 HEAD HEAD H 2 X 3 LAYER Trail 트레이닝 팬츠 JHHS 57011 GY 패션 플러스\n",
      " MARCELO BURLONE r   마르셀로불론 14SS BM4001 02 10   알라스 퍼플윙   블랙   남성 후드티 P019375800 MARCELO BURLONE r 마르셀 로불 론 14 SS BM 4001 02 10 알라스 퍼플 윙 블랙 남성 후드 티 P 019375800\n",
      " 하프클럽 HARRISON 러쉬나염 MTM MB1591 하프 클럽 HARRISON 러쉬 나염 MTM MB 1591\n",
      " 5  즉시할인 Sexy Backless Sleeveless Lace Hip Mini Dress 353 5 즉시 할인 Sexy Backless Sleeveless Lace Hip Mini Dress 353\n",
      " 5  즉시할인 Rockabilly Deep Puff Bodycon Party Pencil Dress 5 즉시 할인 Rockabilly Deep Puff Bodycon Party Pencil Dress\n",
      " 블루머핀  플로랄 원피스 BM14FOP606C 블루머 핀 플로 랄 원피스 BM 14 FOP 606 C\n",
      " 잭키드 주니어  보리보리 잭키드 주니어 델핀조끼정장 여 잭 키드 주니어 보리 보리 잭 키드 주니어 델 핀 조끼 정장 여\n",
      " 비비안 마름모체크남성트렁크팬티 TP9346  비비안 마름모 체크 남성 트렁크 팬티 TP 9346\n",
      " 현대백화점 VI관   비비안 마름모체크남성트렁크팬티 TP9346  현대 백화점 VI 관 비비 안 마름모 체크 남성 트렁크 팬티 TP 9346\n",
      " BC카드5 할인  예화 좋은아이들  名品 남아 아동한복 옆색동산호  13106  배자   저고리   바지  BC 카드 5 할인 예 화 좋 은 아이 들 名品 남 아 아동 한복 옆 색동 산호 13106 배자 저고리 바지\n",
      " KB국민카드 5 할인  3 14 베네통키즈블링팝 슈가스타슬립온 바이올렛 QCSH05511 VO  KB 국민카드 5 할인 3 14 베네통 키즈 블링 팝 슈가 스타 슬립 온 바이올렛 QCSH 05511 VO\n"
     ]
    },
    {
     "name": "stderr",
     "output_type": "stream",
     "text": [
      "121.140.65.88 - - [23/Aug/2016 07:57:32] \"GET /classify?name=[%ED%98%84%EB%8C%80%EB%B0%B1%ED%99%94%EC%A0%90%20VI%EA%B4%80]%20[%EB%B9%84%EB%B9%84%EC%95%88]%EB%A7%88%EB%A6%84%EB%AA%A8%EC%B2%B4%ED%81%AC%EB%82%A8%EC%84%B1%ED%8A%B8%EB%A0%81%ED%81%AC%ED%8C%AC%ED%8B%B0(TP9346)&img=http://shopping.phinf.naver.net/main_8008829/8008829527.jpg HTTP/1.1\" 200 123\n",
      "121.140.65.88 - - [23/Aug/2016 07:57:32] \"GET /classify?name=[BC%EC%B9%B4%EB%93%9C5%%ED%95%A0%EC%9D%B8][%EC%98%88%ED%99%94-%EC%A2%8B%EC%9D%80%EC%95%84%EC%9D%B4%EB%93%A4]%20%E5%90%8D%E5%93%81%20%EB%82%A8%EC%95%84%20%EC%95%84%EB%8F%99%ED%95%9C%EB%B3%B5%20%EC%98%86%EC%83%89%EB%8F%99%EC%82%B0%ED%98%B8_%2013106%20(%EB%B0%B0%EC%9E%90%20+%20%EC%A0%80%EA%B3%A0%EB%A6%AC%20+%20%EB%B0%94%EC%A7%80)&img=http://shopping.phinf.naver.net/main_7439535/7439535409.16.jpg HTTP/1.1\" 200 74\n",
      "121.140.65.88 - - [23/Aug/2016 07:57:32] \"GET /classify?name=[KB%EA%B5%AD%EB%AF%BC%EC%B9%B4%EB%93%9C%205%%ED%95%A0%EC%9D%B8,%203/14]%EB%B2%A0%EB%84%A4%ED%86%B5%ED%82%A4%EC%A6%88%EB%B8%94%EB%A7%81%ED%8C%9D%20%EC%8A%88%EA%B0%80%EC%8A%A4%ED%83%80%EC%8A%AC%EB%A6%BD%EC%98%A8-%EB%B0%94%EC%9D%B4%EC%98%AC%EB%A0%9B(QCSH05511-VO)&img=http://shopping.phinf.naver.net/main_8319992/8319992543.jpg HTTP/1.1\" 200 99\n"
     ]
    }
   ],
   "source": [
    "from bottle import route, run, template,request,get, post\n",
    "\n",
    "\n",
    "import  time\n",
    "from threading import  Condition\n",
    "_CONDITION = Condition()\n",
    "@route('/classify')\n",
    "def classify():\n",
    "    #print \"classify called\"\n",
    "    img = request.GET.get('img','')\n",
    "    name = request.GET.get('name', '')\n",
    "    name = DeleteSpecialCharacter(name)\n",
    "    name = name.decode('utf-8').encode('utf-8')\n",
    "    #print name\n",
    "    parseCase = ParseKoreanWithMeCab(name)\n",
    "    parseCase = ParseMeCabResult(parseCase)\n",
    "    name = name + ' ' + parseCase\n",
    "    print name\n",
    "    pred = clf.predict(vectorizer.transform([name]))[0]\n",
    "    return {'cate':cate_id_name_dict[pred]}\n",
    "\n",
    "\n",
    "run(host='0.0.0.0', port=8887)\n"
   ]
  },
  {
   "cell_type": "markdown",
   "metadata": {
    "collapsed": true
   },
   "source": [
    " * 추후 여기 docker 에서 뭔가 python package 설치할게 있으면 \n",
    " * /opt/conda/bin/pip2 install bottle 이런식으로 설치 가능"
   ]
  },
  {
   "cell_type": "code",
   "execution_count": null,
   "metadata": {
    "collapsed": true
   },
   "outputs": [],
   "source": []
  },
  {
   "cell_type": "code",
   "execution_count": null,
   "metadata": {
    "collapsed": true
   },
   "outputs": [],
   "source": []
  }
 ],
 "metadata": {
  "kernelspec": {
   "display_name": "Python 2",
   "language": "python",
   "name": "python2"
  },
  "language_info": {
   "codemirror_mode": {
    "name": "ipython",
    "version": 2
   },
   "file_extension": ".py",
   "mimetype": "text/x-python",
   "name": "python",
   "nbconvert_exporter": "python",
   "pygments_lexer": "ipython2",
   "version": "2.7.11"
  },
  "widgets": {
   "state": {},
   "version": "1.1.2"
  }
 },
 "nbformat": 4,
 "nbformat_minor": 0
}
